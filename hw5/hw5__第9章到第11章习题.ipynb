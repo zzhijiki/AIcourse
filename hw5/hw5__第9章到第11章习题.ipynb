{
 "cells": [
  {
   "cell_type": "markdown",
   "metadata": {
    "ExecuteTime": {
     "end_time": "2019-11-24T07:24:46.229715Z",
     "start_time": "2019-11-24T07:24:46.226715Z"
    }
   },
   "source": [
    "#### 习题9.3\n",
    "- 估算两个分量的高斯混合模型的五个参数"
   ]
  },
  {
   "cell_type": "code",
   "execution_count": 1,
   "metadata": {
    "ExecuteTime": {
     "end_time": "2019-11-29T18:39:19.432951Z",
     "start_time": "2019-11-29T18:39:19.244940Z"
    }
   },
   "outputs": [],
   "source": [
    "import numpy as np\n",
    "import matplotlib.pyplot as plt"
   ]
  },
  {
   "cell_type": "code",
   "execution_count": 2,
   "metadata": {
    "ExecuteTime": {
     "end_time": "2019-11-29T18:39:19.519956Z",
     "start_time": "2019-11-29T18:39:19.434951Z"
    }
   },
   "outputs": [],
   "source": [
    "oblist=np.array([-67,-48,6,8,14,16,23,24,28,29,41,49,56,60,75])"
   ]
  },
  {
   "cell_type": "code",
   "execution_count": 3,
   "metadata": {
    "ExecuteTime": {
     "end_time": "2019-11-29T18:39:19.778971Z",
     "start_time": "2019-11-29T18:39:19.521956Z"
    }
   },
   "outputs": [],
   "source": [
    "def gaussian(sigma, y, u):\n",
    "    phi = np.exp(-(y - u) ** 2 / (2 * sigma ** 2)) / (sigma * np.sqrt(2 * np.pi))\n",
    "    return phi"
   ]
  },
  {
   "cell_type": "code",
   "execution_count": 4,
   "metadata": {
    "ExecuteTime": {
     "end_time": "2019-11-29T18:39:20.237997Z",
     "start_time": "2019-11-29T18:39:19.780971Z"
    }
   },
   "outputs": [
    {
     "name": "stdout",
     "output_type": "stream",
     "text": [
      "初始化的u_k\t [2 5]\n",
      "初始化的cov_sigma [2 5]\n",
      "初始化的alpha_k\t [0.231213 0.768787]\n",
      "-------\n",
      "第77次迭代停止\n"
     ]
    },
    {
     "data": {
      "image/png": "[encoded data removed]",
      "text/plain": [
       "<Figure size 432x288 with 1 Axes>"
      ]
     },
     "metadata": {
      "needs_background": "light"
     },
     "output_type": "display_data"
    },
    {
     "name": "stdout",
     "output_type": "stream",
     "text": [
      "-------\n",
      "u_k\t [32.80701021  6.61249503]\n",
      "cov_sigm [18.90202277 46.12284609]\n",
      "alpha_k\t [0.54671133 0.45328867]\n"
     ]
    }
   ],
   "source": [
    "n=len(oblist)\n",
    "k=2\n",
    "asadasd=0.231213\n",
    "alpha=np.array([asadasd,1-asadasd])\n",
    "mean_u=np.array([2,5])\n",
    "cov_sigma=np.array([2,5])\n",
    "yjk=np.zeros((k,n))\n",
    "print(\"初始化的u_k\\t\",mean_u)\n",
    "print(\"初始化的cov_sigma\",cov_sigma)\n",
    "print(\"初始化的alpha_k\\t\",alpha)      \n",
    "np.seterr(divide='ignore', invalid='ignore')\n",
    "lossbox=[]\n",
    "print(\"-------\")  \n",
    "for num in range(300):\n",
    "    # E_step\n",
    "    temp=yjk.copy()\n",
    "    for i in range(k):\n",
    "        yjk[i,:]=gaussian(cov_sigma[i], oblist, mean_u[i])\n",
    "    yjk= yjk/np.sum(yjk,axis=0)\n",
    "    yjk[np.isnan(yjk)]=0.5\n",
    "    \n",
    "    # M_step\n",
    "    cov_sigma[0]=np.sum(yjk[0,:]*(oblist-mean_u[0])**2)/np.sum(yjk[0,:])\n",
    "    cov_sigma[1]=np.sum(yjk[1,:]*(oblist-mean_u[1])**2)/np.sum(yjk[1,:])\n",
    "    cov_sigma=np.sqrt(cov_sigma)\n",
    "    mean_u= np.sum(yjk*oblist,axis=1)/np.sum(yjk,axis=1)\n",
    "    alpha= np.sum(yjk,axis=1)/n\n",
    "    \n",
    "    ##终止条件\n",
    "    if np.linalg.norm(yjk-temp)<0.0001:\n",
    "        print(\"第{}次迭代停止\".format(num))\n",
    "        break\n",
    "        \n",
    "    lossbox.append(np.linalg.norm(yjk-temp))\n",
    "    \n",
    "if True:\n",
    "    bp_y = lossbox\n",
    "    plt.plot(bp_y, linewidth=3, linestyle=\"-\",color=\"blue\")\n",
    "    plt.show()\n",
    "    \n",
    "print(\"-------\")  \n",
    "print('u_k\\t',mean_u)\n",
    "print(\"cov_sigm\",cov_sigma)\n",
    "print(\"alpha_k\\t\",alpha)"
   ]
  },
  {
   "cell_type": "code",
   "execution_count": null,
   "metadata": {},
   "outputs": [],
   "source": []
  },
  {
   "cell_type": "markdown",
   "metadata": {},
   "source": [
    "#### 习题10.1\n",
    "- 给定 $\\lambda =(A,B,\\pi)$ 用后向算法求$P(O|\\lambda)$"
   ]
  },
  {
   "cell_type": "code",
   "execution_count": 13,
   "metadata": {
    "ExecuteTime": {
     "end_time": "2019-11-29T18:39:20.371005Z",
     "start_time": "2019-11-29T18:39:20.238997Z"
    }
   },
   "outputs": [],
   "source": [
    "A=np.array([[0.5,0.2,0.3],[0.3,0.5,0.2],[0.2,0.3,0.5]])\n",
    "B=np.array([[0.5,0.5],[0.4,0.6],[0.7,0.3]])\n",
    "pi=np.array([0.2,0.4,0.4])\n",
    "Observe=np.array([0,1,0,1])## 红=0 ，白=1\n",
    "T=4"
   ]
  },
  {
   "cell_type": "markdown",
   "metadata": {
    "ExecuteTime": {
     "end_time": "2019-11-24T17:26:12.067707Z",
     "start_time": "2019-11-24T17:26:11.862695Z"
    }
   },
   "source": [
    "- $A_{ij}$ : 状态i 转移到状态j 的概率,一共三个状态（三个盒子）\n",
    "- $B_{ij}$： 状态i 产生观测j（红或者白）的概率\n",
    "- $pi_{ij}$: 初试状态的概率分布（三个盒子）"
   ]
  },
  {
   "cell_type": "code",
   "execution_count": 39,
   "metadata": {
    "ExecuteTime": {
     "end_time": "2019-11-29T18:39:20.581017Z",
     "start_time": "2019-11-29T18:39:20.372005Z"
    }
   },
   "outputs": [
    {
     "name": "stdout",
     "output_type": "stream",
     "text": [
      "[0.46 0.51 0.43]\n",
      "[0.2461 0.2312 0.2577]\n",
      "[0.112462 0.121737 0.104881]\n",
      "观测序列概率为：0.06009\n"
     ]
    }
   ],
   "source": [
    "\"\"\"初始化\"\"\"\n",
    "temp=beta=np.full(3,fill_value=1)\n",
    "\n",
    "\"\"\"后向\"\"\"\n",
    "for i in range(T-1,0,-1):\n",
    "    beta=A *B[:,Observe[i]]@beta\n",
    "\n",
    "\"\"\"计算概率\"\"\"\n",
    "P=pi * B[:,Observe[0]] @ beta\n",
    "\n",
    "print(\"观测序列概率为：%0.5f\" %P)"
   ]
  },
  {
   "cell_type": "code",
   "execution_count": null,
   "metadata": {},
   "outputs": [],
   "source": []
  },
  {
   "cell_type": "markdown",
   "metadata": {
    "ExecuteTime": {
     "end_time": "2019-11-28T09:54:49.767753Z",
     "start_time": "2019-11-28T09:54:49.763753Z"
    }
   },
   "source": [
    "#### 习题11.2\n",
    "- 证明 $\\boldsymbol\\small Z(x)$=$\\boldsymbol\\alpha_n(x)^T$$\\boldsymbol1$=$\\boldsymbol1^T$$\\boldsymbol\\beta_1(x)$"
   ]
  },
  {
   "cell_type": "markdown",
   "metadata": {},
   "source": [
    "- 等式1\n",
    "$$\\boldsymbol\\alpha_0(y|x)=\n",
    "\\begin{cases}\n",
    "1& \\text{y=start}\\\\\n",
    "0& \\text{otherwise}\n",
    "\\end{cases}$$"
   ]
  },
  {
   "cell_type": "markdown",
   "metadata": {
    "ExecuteTime": {
     "end_time": "2019-11-28T10:24:29.595553Z",
     "start_time": "2019-11-28T10:24:29.589553Z"
    }
   },
   "source": [
    "$$\n",
    "\\begin{aligned} Z_{n}(x) &=\\left(M_{1}(x) M_{2}(x) \\cdots M_{n+1}(x)\\right)_{(\\text {start}, \\text {stop})} \\\\ &=\\alpha_{o}(x)^{T} M_{1}(x) M_{2}(x) \\cdots M_{n}(x) \\cdot 1 \\\\ &=\\alpha_{n}(x)^{T} \\cdot 1 \\end{aligned}\n",
    "$$"
   ]
  },
  {
   "cell_type": "markdown",
   "metadata": {},
   "source": [
    "- 等式2\n",
    "$$\n",
    "\\left(M_{n+1}(x)\\right)_{i, j}=\\left\\{\\begin{array}{ll}{1,} & {j=s t o p} \\\\ {0,} & {\\text { otherwsie }}\\end{array}\\right.\n",
    "$$"
   ]
  },
  {
   "cell_type": "markdown",
   "metadata": {},
   "source": [
    "$$\n",
    "\\beta_{n+1}\\left(y_{n+1} | x\\right)=\\left\\{\\begin{array}{ll}{1,} & {y_{n+1}=s t o p} \\\\ {0,} & {\\text { otherwise }}\\end{array}\\right.\n",
    "$$"
   ]
  },
  {
   "cell_type": "markdown",
   "metadata": {},
   "source": [
    "$$\n",
    "\\begin{aligned} Z_{n}(x) &=\\left(M_{1}(x) M_{2}(x) \\cdots M_{n+1}(x)\\right)_{(\\text {start, }, \\text { top })} \\\\ &=\\left(M_{1}(x) M_{2}(x) \\cdots M_{n}(x) \\beta_{n+1}(x)\\right)_{\\text {start }} \\\\ &=\\left(\\beta_{1}(x)\\right)_{\\text {start }} \\\\ &=1^{T} \\cdot \\beta_{1}(x) \\end{aligned}\n",
    "$$"
   ]
  },
  {
   "cell_type": "markdown",
   "metadata": {
    "ExecuteTime": {
     "end_time": "2019-11-28T10:26:28.413349Z",
     "start_time": "2019-11-28T10:26:28.409349Z"
    }
   },
   "source": [
    "所以，$\\boldsymbol\\small Z(x)$=$\\boldsymbol\\alpha_n(x)^T$$\\boldsymbol1$=$\\boldsymbol1^T$$\\boldsymbol\\beta_1(x)$"
   ]
  },
  {
   "cell_type": "code",
   "execution_count": null,
   "metadata": {},
   "outputs": [],
   "source": []
  }
 ],
 "metadata": {
  "hide_input": false,
  "kernelspec": {
   "display_name": "Python 3",
   "language": "python",
   "name": "python3"
  },
  "language_info": {
   "codemirror_mode": {
    "name": "ipython",
    "version": 3
   },
   "file_extension": ".py",
   "mimetype": "text/x-python",
   "name": "python",
   "nbconvert_exporter": "python",
   "pygments_lexer": "ipython3",
   "version": "3.7.3"
  },
  "toc": {
   "base_numbering": 1,
   "nav_menu": {},
   "number_sections": true,
   "sideBar": true,
   "skip_h1_title": false,
   "title_cell": "Table of Contents",
   "title_sidebar": "Contents",
   "toc_cell": false,
   "toc_position": {},
   "toc_section_display": true,
   "toc_window_display": false
  },
  "varInspector": {
   "cols": {
    "lenName": 16,
    "lenType": 16,
    "lenVar": 40
   },
   "kernels_config": {
    "python": {
     "delete_cmd_postfix": "",
     "delete_cmd_prefix": "del ",
     "library": "var_list.py",
     "varRefreshCmd": "print(var_dic_list())"
    },
    "r": {
     "delete_cmd_postfix": ") ",
     "delete_cmd_prefix": "rm(",
     "library": "var_list.r",
     "varRefreshCmd": "cat(var_dic_list()) "
    }
   },
   "types_to_exclude": [
    "module",
    "function",
    "builtin_function_or_method",
    "instance",
    "_Feature"
   ],
   "window_display": false
  }
 },
 "nbformat": 4,
 "nbformat_minor": 4
}
