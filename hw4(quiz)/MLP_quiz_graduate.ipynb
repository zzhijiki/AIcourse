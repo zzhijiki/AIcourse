{
 "cells": [
  {
   "cell_type": "code",
   "execution_count": 1,
   "metadata": {},
   "outputs": [],
   "source": [
    "from sklearn import datasets\n",
    "import numpy as np\n",
    "import math\n",
    "import matplotlib.pyplot as plt"
   ]
  },
  {
   "cell_type": "code",
   "execution_count": 59,
   "metadata": {},
   "outputs": [],
   "source": [
    "def load_boston(ratio=0.8):\n",
    "    features, target = datasets.load_boston(True)\n",
    "    target.shape = -1, 1\n",
    "#     # normalization\n",
    "#     X = X/80\n",
    "#     Y = Y/(np.max(Y) - np.min(Y))\n",
    "    np.random.seed(4)\n",
    "    num_samples = len(target)\n",
    "    num_train = math.ceil(num_samples * ratio)\n",
    "    \n",
    "    # 随机打乱数据\n",
    "    idx = np.random.permutation(np.arange(num_samples))\n",
    "    traindata = features[idx[:num_train]], target[idx[:num_train]]\n",
    "    validdata = features[idx[num_train:]], target[idx[num_train:]]\n",
    "    \n",
    "    return traindata, validdata"
   ]
  },
  {
   "cell_type": "code",
   "execution_count": 55,
   "metadata": {},
   "outputs": [],
   "source": [
    "def load_dummy(ratio=0.8):\n",
    "    X = np.linspace(-40, 40, num=2000).reshape(-1, 1)\n",
    "    Y = 0.02*X**3 + 2*X**2 + 30*X + 300*np.random.randn(*X.shape)\n",
    "\n",
    "    # normalization\n",
    "    X = X/80\n",
    "    Y = Y/(np.max(Y) - np.min(Y))\n",
    "    \n",
    "    features, target = X, Y\n",
    "    target.shape = -1, 1\n",
    "    num_samples = len(target)\n",
    "    num_train = math.ceil(num_samples * ratio)\n",
    "    \n",
    "    # 随机打乱数据\n",
    "    idx = np.random.permutation(np.arange(num_samples))\n",
    "    traindata = features[idx[:num_train]], target[idx[:num_train]]\n",
    "    validdata = features[idx[num_train:]], target[idx[num_train:]]\n",
    "    \n",
    "    return traindata, validdata"
   ]
  },
  {
   "cell_type": "code",
   "execution_count": 56,
   "metadata": {},
   "outputs": [],
   "source": [
    "def load_boston(ratio=0.8):\n",
    "    X, Y = datasets.load_boston(True)\n",
    "    Y.shape = -1, 1\n",
    "    \n",
    "    # normalization\n",
    "    X = X/80\n",
    "    Y = Y/(np.max(Y) - np.min(Y))\n",
    "    \n",
    "    num_samples = len(Y)\n",
    "    num_train = math.ceil(num_samples * ratio)\n",
    "    \n",
    "    # 随机打乱数据\n",
    "    idx = np.random.permutation(np.arange(num_samples))\n",
    "    traindata = X[idx[:num_train]], Y[idx[:num_train]]\n",
    "    validdata = X[idx[num_train:]], Y[idx[num_train:]]\n",
    "    \n",
    "    return traindata, validdata"
   ]
  },
  {
   "cell_type": "code",
   "execution_count": 60,
   "metadata": {},
   "outputs": [],
   "source": [
    "(X_train, Y_train), (X_valid, Y_valid) = load_boston()"
   ]
  },
  {
   "cell_type": "code",
   "execution_count": 61,
   "metadata": {},
   "outputs": [
    {
     "name": "stdout",
     "output_type": "stream",
     "text": [
      "(405, 13) (405, 1)\n",
      "(101, 13) (101, 1)\n"
     ]
    }
   ],
   "source": [
    "print(X_train.shape, Y_train.shape)\n",
    "print(X_valid.shape, Y_valid.shape)"
   ]
  },
  {
   "cell_type": "markdown",
   "metadata": {},
   "source": [
    "# MLP Quiz\n",
    "\n",
    "## 内容\n",
    "\n",
    "利用$\\hat{Y} = f_2\\circ\\phi\\circ f_1 (X)$和梯度下降法来拟合boston数据集，即求解最优化问题：$min_{W, b} L(\\hat{Y}, Y)$\n",
    "\n",
    "其中：\n",
    "\n",
    "* $Z_0 = X$, 其中 $X \\in \\mathbb{R}^{N\\times n_{in}}$\n",
    "* $Z_1 = f_1(Z_0) := Z_0W_1^T + b_1$, 其中 $W_1 \\in \\mathbb{R}^{n_{mid}\\times n_{in}}, b_1 \\in \\mathbb{R}^{n_{mid}}$\n",
    "* $Z_2 = \\phi_2(Z_1) := \\frac{1}{1+e^{-Z_1}}$, 其中指数运算为逐元素运算，即$e^{X}_i := e^{X_i}$\n",
    "* $Z_3 = f_2(Z_2) := Z_2W_2^T + b2$, 其中 $W_2 \\in \\mathbb{R}^{n_{out}\\times n_{mid}}, b_2 \\in \\mathbb{R}^{n_{out}}$\n",
    "* $\\hat{Y} = Z_3$\n",
    "* $L(\\hat{Y}, Y) := \\frac{1}{2} \\sum_{i=1}^{N} (\\hat{Y_i} - Y_i)^2$\n",
    "\n",
    "关于boston数据集：$n_{in}=13, n_{out}=1$，为了降低计算量，设定$n_{mid} = 30$\n",
    "\n",
    "## 评分\n",
    "\n",
    "1. （4分）给出$\\frac{\\partial L}{\\partial W_1}, \\frac{\\partial L}{\\partial b_1}, \\frac{\\partial L}{\\partial W_2}, \\frac{\\partial L}{\\partial b_2}$的计算表达式，并注明其中每一个矩阵的尺寸（纸质或pdf）\n",
    "2. （4分）补充完整下述代码\n",
    "3. （2分）性能：服务器空载情况下运行一次完整的训练时间低于10s （Baseline为3.5s）\n",
    "\n",
    "## 提交\n",
    "\n",
    "提交到`ftp://ftp.lflab.cn/AI_homework/Graduate/quiz/`下\n",
    "\n",
    "## 参考\n",
    "\n",
    "* 矩阵关于标量的导数：$(\\frac{\\partial{Y}}{\\partial{X}})_{ij} := \\frac{\\partial{Y_ij}}{\\partial{X}}$, 其中 $Y \\in \\mathbb{R}^{m\\times n}, X \\in \\mathbb{R}$\n",
    "* 向量关于向量的导数：$(\\frac{\\partial{Y}}{\\partial{X}})_{ij} := \\frac{\\partial{Y_i}}{\\partial{X_j}}$, 其中 $Y \\in \\mathbb{R}^{m\\times 1}, X \\in \\mathbb{R}^{n\\times 1}$\n",
    "* 标量关于矩阵的导数：$(\\frac{\\partial{Y}}{\\partial{X}})_{ij} := \\frac{\\partial{Y}}{\\partial{X_ij}}$, 其中 $Y \\in \\mathbb{R}, X \\in \\mathbb{R}^{m\\times n}$"
   ]
  },
  {
   "cell_type": "markdown",
   "metadata": {},
   "source": [
    "# 实现"
   ]
  },
  {
   "cell_type": "markdown",
   "metadata": {},
   "source": [
    "$f_1, f_2$称为线性层"
   ]
  },
  {
   "cell_type": "code",
   "execution_count": 62,
   "metadata": {},
   "outputs": [],
   "source": [
    "class Linear():\n",
    "    def __init__(self, in_features: int, out_features: int):\n",
    "        \n",
    "        self.W=np.random.rand(out_features,in_features)\n",
    "        self.b=np.zeros((1,out_features))\n",
    "    def __call__(self, X):\n",
    "        return self.forward(X)\n",
    "    \n",
    "    def forward(self, X):\n",
    "        return X.dot(self.W.T)+self.b"
   ]
  },
  {
   "cell_type": "markdown",
   "metadata": {},
   "source": [
    "$\\phi$称为激活函数（非线性层）"
   ]
  },
  {
   "cell_type": "code",
   "execution_count": 63,
   "metadata": {},
   "outputs": [],
   "source": [
    "class Sigmoid():\n",
    "    \"\"\"phi\"\"\"\n",
    "    def __call__(self, X):\n",
    "        return self.forward(X)\n",
    "    \n",
    "    def forward(self, X):\n",
    "        return 1/(1+np.exp(-X))"
   ]
  },
  {
   "cell_type": "code",
   "execution_count": 64,
   "metadata": {},
   "outputs": [],
   "source": [
    "class MLP:\n",
    "    def __init__(self, in_features: int, mid_features: int, out_features: int):\n",
    "        self.f1 = Linear(in_features, mid_features)\n",
    "        self.phi = Sigmoid()\n",
    "        self.f2 = Linear(mid_features, out_features)\n",
    "        \n",
    "    def __call__(self, X):\n",
    "        return self.f2(self.phi(self.f1(X)))\n",
    "        \n",
    "    def forward(self, X):\n",
    "        Z0 = X\n",
    "        Z1 = self.f1(X)\n",
    "        Z2 = self.phi(Z1)\n",
    "        Z3 = self.f2(Z2)\n",
    "        return [Z0, Z1, Z2, Z3]\n",
    "    \n",
    "    def grad(self, Y, Z): # 3分\n",
    "        Z0, Z1, Z2, Z3 = Z[0], Z[1], Z[2], Z[3]\n",
    "        W2=self.f2.W  #1,30\n",
    "        \n",
    "        n=Y.shape[0]\n",
    "        \n",
    "        dLdW2=(Z3-Y).T.dot(Z2)\n",
    "        dLdb2=1/n*np.sum((Z3-Y),axis=0).reshape(1,-1)\n",
    "        \n",
    "        temp=np.multiply((Z3-Y).dot(W2),Z2)\n",
    "        dLdW1=np.multiply(temp,(1-Z2)).T.dot(Z0)\n",
    "        temp=np.multiply((Z3-Y).dot(W2),Z2)\n",
    "        dLdb1=1.0/30*np.sum(np.multiply(temp,(1-Z2)),axis=0).reshape(1,-1)\n",
    "        \n",
    "#         print(dLdW1.shape, dLdb1.shape, dLdW2.shape, dLdb2.shape)\n",
    "        return dLdW1, dLdb1, dLdW2, dLdb2"
   ]
  },
  {
   "cell_type": "code",
   "execution_count": 65,
   "metadata": {},
   "outputs": [],
   "source": [
    "def loss(Y_real, Y_pred):\n",
    "    Y_real=np.array(Y_real)\n",
    "    Y_pred=np.array(Y_pred)\n",
    "    return 0.5 * np.sum((Y_real - Y_pred)**2)"
   ]
  },
  {
   "cell_type": "code",
   "execution_count": 66,
   "metadata": {},
   "outputs": [],
   "source": [
    "class GradientDescent:\n",
    "    def __init__(self, step=1e-3):\n",
    "        self.step = step\n",
    "        \n",
    "    def update(self, model: MLP, dLdW1, dLdb1, dLdW2, dLdb2):\n",
    "        \"\"\"利用梯度dW来更新f的权重\"\"\"\n",
    "        #print(model.f2.b.shape,dLdb1.shape)\n",
    "        model.f1.W -= self.step*dLdW1\n",
    "        model.f1.b -= self.step*dLdb1\n",
    "        model.f2.W -= self.step*dLdW2\n",
    "        model.f2.b -= self.step*dLdb2\n",
    "        "
   ]
  },
  {
   "cell_type": "code",
   "execution_count": 67,
   "metadata": {},
   "outputs": [
    {
     "name": "stdout",
     "output_type": "stream",
     "text": [
      "Iter 0: loss 40103.1810, valid loss 9491.0785\n",
      "Iter 100: loss 19485.0340, valid loss 4327.9877\n",
      "Iter 200: loss 17697.0545, valid loss 3875.8296\n",
      "Iter 300: loss 17542.0032, valid loss 3835.3170\n",
      "Iter 400: loss 17528.5573, valid loss 3831.4204\n",
      "Iter 500: loss 17527.3913, valid loss 3830.9696\n",
      "Iter 600: loss 17527.2902, valid loss 3830.8972\n",
      "Iter 700: loss 17527.2814, valid loss 3830.8812\n",
      "Iter 800: loss 17527.2807, valid loss 3830.8769\n",
      "Iter 900: loss 17527.2806, valid loss 3830.8757\n",
      "CPU times: user 38.7 s, sys: 1min 15s, total: 1min 53s\n",
      "Wall time: 4.11 s\n"
     ]
    }
   ],
   "source": [
    "%%time\n",
    "num_features = X_train.shape[-1]\n",
    "model = MLP(num_features, 30, 1)\n",
    "opt = GradientDescent(1e-6)\n",
    "\n",
    "valid_losses = []\n",
    "train_losses = []\n",
    "for i in range(1000):\n",
    "    X, Y = X_train, Y_train\n",
    "    \n",
    "    # 1分\n",
    "    # 1. 计算梯度\n",
    "    # 2. 更新权重\n",
    "    Z=model.forward(X)\n",
    "    dLdW1, dLdb1, dLdW2, dLdb2=model.grad(Y,Z)\n",
    "    opt.update(model, dLdW1, dLdb1, dLdW2, dLdb2)\n",
    "    # 3. 存储中间状态\n",
    "    Y_out = model(X)\n",
    "    cur_valid_loss = loss(Y_valid, model(X_valid))\n",
    "    cur_train_loss = loss(Y, Y_out)\n",
    "    valid_losses.append(cur_valid_loss) \n",
    "    train_losses.append(cur_train_loss)\n",
    "    \n",
    "    if i%100 == 0:\n",
    "        print(f\"Iter {i}: loss {cur_train_loss:.4f}, valid loss {cur_valid_loss:.4f}\")"
   ]
  },
  {
   "cell_type": "code",
   "execution_count": 68,
   "metadata": {},
   "outputs": [
    {
     "data": {
      "text/plain": [
       "<matplotlib.legend.Legend at 0x7f618b1028d0>"
      ]
     },
     "execution_count": 68,
     "metadata": {},
     "output_type": "execute_result"
    },
    {
     "data": {
      "image/png": "[encoded data removed]",
      "text/plain": [
       "<Figure size 432x288 with 1 Axes>"
      ]
     },
     "metadata": {
      "needs_background": "light"
     },
     "output_type": "display_data"
    }
   ],
   "source": [
    "plt.plot(train_losses)\n",
    "plt.plot(valid_losses)\n",
    "plt.legend([\"train loss\", \"validation loss\"])"
   ]
  },
  {
   "cell_type": "code",
   "execution_count": null,
   "metadata": {},
   "outputs": [],
   "source": []
  },
  {
   "cell_type": "code",
   "execution_count": null,
   "metadata": {},
   "outputs": [],
   "source": []
  }
 ],
 "metadata": {
  "kernelspec": {
   "display_name": "AI-Course",
   "language": "python",
   "name": "ai-course"
  },
  "language_info": {
   "codemirror_mode": {
    "name": "ipython",
    "version": 3
   },
   "file_extension": ".py",
   "mimetype": "text/x-python",
   "name": "python",
   "nbconvert_exporter": "python",
   "pygments_lexer": "ipython3",
   "version": "3.7.3"
  }
 },
 "nbformat": 4,
 "nbformat_minor": 4
}
