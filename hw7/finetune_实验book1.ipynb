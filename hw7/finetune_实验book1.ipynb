{
 "cells": [
  {
   "cell_type": "code",
   "execution_count": 1,
   "metadata": {},
   "outputs": [],
   "source": [
    "import os\n",
    "os.environ[\"CUDA_VISIBLE_DEVICES\"] = \"3\"\n",
    "import torch\n",
    "import torchvision\n",
    "import numpy as np\n",
    "import matplotlib.pyplot as plt\n",
    "\n",
    "from torchvision.datasets import ImageFolder\n",
    "from torchvision import transforms\n",
    "from torch.utils.data import DataLoader,Dataset\n",
    "from torch import nn\n",
    "import torch.nn.functional as F\n",
    "\n",
    "from torch.autograd import Variable\n",
    "import torch.utils.data as Data\n",
    "import torchvision\n",
    "\n",
    "from torchvision import transforms\n",
    "import torch.nn.functional as F\n",
    "import matplotlib.pyplot as plt\n",
    "import seaborn as sns\n",
    "import numpy as np\n",
    "import pandas as pd\n",
    "import matplotlib.patheffects as PathEffects\n",
    "# from centerLoss import CenterLoss\n",
    "import torch.optim.lr_scheduler as lr_scheduler\n",
    "import matplotlib.cm as cm\n",
    "%matplotlib inline"
   ]
  },
  {
   "cell_type": "code",
   "execution_count": 2,
   "metadata": {},
   "outputs": [
    {
     "name": "stdout",
     "output_type": "stream",
     "text": [
      "torch.cuda.is_available() = True\n",
      "torch.cuda.device_count() = 1\n",
      "os.environ['CUDA_VISIBLE_DEVICES'] = 3\n"
     ]
    }
   ],
   "source": [
    "print(f\"torch.cuda.is_available() = {torch.cuda.is_available()}\")\n",
    "print(f\"torch.cuda.device_count() = {torch.cuda.device_count()}\")\n",
    "if 'CUDA_VISIBLE_DEVICES' in os.environ:\n",
    "    print(f\"os.environ['CUDA_VISIBLE_DEVICES'] = {os.environ['CUDA_VISIBLE_DEVICES']}\")\n",
    "else:\n",
    "    print(f\"没有设置环境变量 'CUDA_VISIBLE_DEVICES'\")"
   ]
  },
  {
   "cell_type": "code",
   "execution_count": 3,
   "metadata": {},
   "outputs": [],
   "source": [
    "data_root = {\n",
    "    \"train\":\"train\",\n",
    "    \"valid\":\"valid\",\n",
    "    \"test\":\"test\"\n",
    "}"
   ]
  },
  {
   "cell_type": "code",
   "execution_count": 4,
   "metadata": {},
   "outputs": [],
   "source": [
    "def train_tf(x):\n",
    "   \n",
    "    im_aug = transforms.Compose([\n",
    "        transforms.Resize(120),\n",
    "        transforms.RandomHorizontalFlip(),\n",
    "        transforms.RandomCrop(96),\n",
    "        transforms.ColorJitter(brightness=0.5, contrast=0.5, hue=0.5),\n",
    "        transforms.ToTensor(),\n",
    "        transforms.Normalize([0.5, 0.5, 0.5], [0.5, 0.5, 0.5])\n",
    "    ])\n",
    "    x = im_aug(x)\n",
    "    return x\n",
    "\n",
    "def test_tf(x):\n",
    "   \n",
    "    im_aug = transforms.Compose([\n",
    "        transforms.Resize(120),\n",
    "        transforms.ToTensor(),\n",
    "        transforms.Normalize([0.5, 0.5, 0.5], [0.5, 0.5, 0.5])\n",
    "    ])\n",
    "    x = im_aug(x)\n",
    "    return x"
   ]
  },
  {
   "cell_type": "code",
   "execution_count": 5,
   "metadata": {},
   "outputs": [],
   "source": [
    "init_seed = 1\n",
    "torch.manual_seed(init_seed)\n",
    "torch.cuda.manual_seed(init_seed)\n",
    "np.random.seed(init_seed) "
   ]
  },
  {
   "cell_type": "code",
   "execution_count": 6,
   "metadata": {},
   "outputs": [],
   "source": [
    "X1=ImageFolder(data_root[\"train\"],transform=test_tf)  ## lazy loding\n",
    "X2=ImageFolder(data_root[\"valid\"],transform=test_tf)  ## lazy loding\n",
    "\n",
    "X=torch.utils.data.ConcatDataset([X1,X2])\n",
    "\n",
    "X_train,X_valid = torch.utils.data.random_split(X, [160000, 20000])\n",
    "train_dataloader= DataLoader(X_train,batch_size=64,shuffle=True)\n",
    "valid_dataloader= DataLoader(X_valid,batch_size=64,shuffle=True)"
   ]
  },
  {
   "cell_type": "code",
   "execution_count": 7,
   "metadata": {},
   "outputs": [],
   "source": [
    "# X_train=ImageFolder(data_root[\"train\"],transform=train_tf)  ## lazy loding\n",
    "# train_dataloader= DataLoader(X_train,batch_size=64,shuffle=True)\n",
    "# X_valid=ImageFolder(data_root[\"valid\"],transform=test_tf)  ## lazy loding\n",
    "# valid_dataloader= DataLoader(X_valid,batch_size=64,shuffle=True)"
   ]
  },
  {
   "cell_type": "code",
   "execution_count": 8,
   "metadata": {},
   "outputs": [],
   "source": [
    "class CrossEntropyLabelSmooth(nn.Module):\n",
    "    def __init__(self, num_classes, epsilon):\n",
    "        super(CrossEntropyLabelSmooth, self).__init__()\n",
    "        self.num_classes = num_classes\n",
    "        self.epsilon = epsilon\n",
    "        self.logsoftmax = nn.LogSoftmax(dim=1)\n",
    "    def forward(self, inputs, targets):\n",
    "        log_probs = self.logsoftmax(inputs)\n",
    "        targets = torch.zeros_like(log_probs).scatter_(1, targets.unsqueeze(1), 1)\n",
    "        targets = (1 - self.epsilon) * targets + self.epsilon / self.num_classes\n",
    "        loss = (-targets * log_probs).mean(0).sum()\n",
    "        return loss\n",
    "    \n",
    "class ConvNet(torch.nn.Module):\n",
    "    def __init__(self):\n",
    "        super(ConvNet, self).__init__()\n",
    "        self.extract = torch.nn.Sequential(\n",
    "            torchvision.models.resnet152(pretrained=True).conv1,\n",
    "            torchvision.models.resnet152(pretrained=True).bn1,\n",
    "            torchvision.models.resnet152(pretrained=True).relu,\n",
    "            torchvision.models.resnet152(pretrained=True).maxpool,\n",
    "            torchvision.models.resnet152(pretrained=True).layer1,\n",
    "            torchvision.models.resnet152(pretrained=True).layer2,\n",
    "            torchvision.models.resnet152(pretrained=True).layer3,\n",
    "            torchvision.models.resnet152(pretrained=True).layer4,\n",
    "            torchvision.models.resnet152(pretrained=True).avgpool,   \n",
    "        )\n",
    "        self.feat = torch.nn.Sequential(\n",
    "            torch.nn.Linear(2048, 256),\n",
    "        )\n",
    "        for index,net in enumerate(self.feat):\n",
    "            if index==0 :\n",
    "                torch.nn.init.xavier_uniform_(net.weight)      \n",
    "        self.pred = torch.nn.Sequential(\n",
    "            torch.nn.Linear(256, 10),\n",
    "        )  \n",
    "        for index,net in enumerate(self.pred):\n",
    "            if index==0:\n",
    "                torch.nn.init.xavier_uniform_(net.weight)\n",
    "                \n",
    "    def forward(self, x):\n",
    "        x = self.extract(x)    \n",
    "        x = x.view(-1, 2048)\n",
    "        feat = self.feat(x)\n",
    "        pred = F.log_softmax(self.pred(feat),1)\n",
    "        return feat ,pred"
   ]
  },
  {
   "cell_type": "code",
   "execution_count": 9,
   "metadata": {},
   "outputs": [],
   "source": [
    "model = ConvNet()\n",
    "checkpoint = torch.load(\"old_model/init1240.pkl\")\n",
    "model.load_state_dict(checkpoint['model'])\n",
    "\n",
    "for param in model.parameters():\n",
    "    param.requires_grad = False\n",
    "for param in model.feat.parameters():\n",
    "    param.requires_grad = True\n",
    "for param in model.pred.parameters():\n",
    "    param.requires_grad = True\n",
    "\n",
    "\n",
    "model=model.cuda()\n",
    "\n",
    "optimizer4nn = torch.optim.SGD(filter(lambda p: p.requires_grad, model.parameters()), \n",
    "                               lr=1e-3, \n",
    "                               momentum=0.9, \n",
    "                               weight_decay=0.0005)    \n",
    "\n",
    "nllloss = CrossEntropyLabelSmooth(10,0.1).cuda()\n",
    "\n",
    "scheduler  = lr_scheduler.CosineAnnealingLR(optimizer4nn, T_max=5,eta_min=4e-08)\n"
   ]
  },
  {
   "cell_type": "code",
   "execution_count": null,
   "metadata": {},
   "outputs": [
    {
     "name": "stdout",
     "output_type": "stream",
     "text": [
      "Training Epoch: 0\n",
      "Epoch: 0 step: 350 loss:0.5504523515701294\n",
      "Epoch: 0 step: 700 loss:0.5234073400497437\n",
      "Epoch: 0 step: 1050 loss:0.560851514339447\n",
      "Epoch: 0 step: 1400 loss:0.5607202053070068\n",
      "Epoch: 0 step: 1750 loss:0.552535355091095\n",
      "Epoch: 0 step: 2100 loss:0.5318355560302734\n",
      "Epoch: 0 step: 2450 loss:0.5588830709457397\n",
      "train accuracy: 98.34875%\n",
      "Predicting Epoch: 0\n"
     ]
    },
    {
     "data": {
      "application/vnd.jupyter.widget-view+json": {
       "model_id": "671c0424c4b243a089979e582065cdf6",
       "version_major": 2,
       "version_minor": 0
      },
      "text/plain": [
       "HBox(children=(IntProgress(value=0, max=313), HTML(value='')))"
      ]
     },
     "metadata": {},
     "output_type": "display_data"
    },
    {
     "name": "stdout",
     "output_type": "stream",
     "text": [
      "\n",
      "Validation accuracy: 90.72%\n",
      "Training Epoch: 1\n",
      "Epoch: 1 step: 350 loss:0.5406242609024048\n",
      "Epoch: 1 step: 700 loss:0.5376715660095215\n",
      "Epoch: 1 step: 1050 loss:0.5378513932228088\n",
      "Epoch: 1 step: 1400 loss:0.5485162138938904\n",
      "Epoch: 1 step: 1750 loss:0.542534351348877\n",
      "Epoch: 1 step: 2100 loss:0.516972005367279\n",
      "Epoch: 1 step: 2450 loss:0.5272921323776245\n",
      "train accuracy: 98.43499999999999%\n",
      "Predicting Epoch: 1\n"
     ]
    },
    {
     "data": {
      "application/vnd.jupyter.widget-view+json": {
       "model_id": "0cec0f01263e45c2bf3baa1ea2dbfe26",
       "version_major": 2,
       "version_minor": 0
      },
      "text/plain": [
       "HBox(children=(IntProgress(value=0, max=313), HTML(value='')))"
      ]
     },
     "metadata": {},
     "output_type": "display_data"
    },
    {
     "name": "stdout",
     "output_type": "stream",
     "text": [
      "\n",
      "Validation accuracy: 90.85%\n",
      "Training Epoch: 2\n",
      "Epoch: 2 step: 350 loss:0.6113779544830322\n",
      "Epoch: 2 step: 700 loss:0.562523365020752\n",
      "Epoch: 2 step: 1050 loss:0.55600506067276\n",
      "Epoch: 2 step: 1400 loss:0.5178607106208801\n",
      "Epoch: 2 step: 1750 loss:0.5778690576553345\n",
      "Epoch: 2 step: 2100 loss:0.5082237720489502\n",
      "Epoch: 2 step: 2450 loss:0.570703387260437\n",
      "train accuracy: 98.451875%\n",
      "Predicting Epoch: 2\n"
     ]
    },
    {
     "data": {
      "application/vnd.jupyter.widget-view+json": {
       "model_id": "11dd343188f44a358bfd0b0711f9a756",
       "version_major": 2,
       "version_minor": 0
      },
      "text/plain": [
       "HBox(children=(IntProgress(value=0, max=313), HTML(value='')))"
      ]
     },
     "metadata": {},
     "output_type": "display_data"
    },
    {
     "name": "stdout",
     "output_type": "stream",
     "text": [
      "\n",
      "Validation accuracy: 90.735%\n",
      "Training Epoch: 3\n",
      "Epoch: 3 step: 350 loss:0.5102455615997314\n",
      "Epoch: 3 step: 700 loss:0.5275911092758179\n"
     ]
    }
   ],
   "source": [
    "from tqdm import tqdm_notebook\n",
    "def train(train_loader, model, epoch):\n",
    "    print(\"Training Epoch: {}\".format(epoch))\n",
    "    model.train()\n",
    "    train_precision=0.0\n",
    "    for step, (data, target) in enumerate(train_loader,1):\n",
    "        data = Variable(data).cuda()\n",
    "        target = Variable(target).cuda()\n",
    "        feat, pred = model(data)\n",
    "        _, pred_label = pred.max(dim=1)\n",
    "        loss=nllloss(pred, target)\n",
    "        optimizer4nn.zero_grad()\n",
    "        loss.backward()\n",
    "        optimizer4nn.step()\n",
    "        train_precision += float(torch.sum(pred_label== target)) \n",
    "        if step % 350 == 0:\n",
    "            print(\"Epoch: {} step: {} loss:{}\".format(epoch, step,loss))\n",
    "            \n",
    "#     train_precision /= 90000.0\n",
    "    train_precision /= 160000.0\n",
    "    print(\"train accuracy: {}%\".format(train_precision * 100))\n",
    "    return train_precision\n",
    "            \n",
    "def test(test_loader, model, epoch):\n",
    "    print(\"Predicting Epoch: {}\".format(epoch))\n",
    "    model.eval()\n",
    "    precision=0.0\n",
    "    for (data, target) in tqdm_notebook(test_loader):\n",
    "        data = Variable(data).cuda()\n",
    "        target = Variable(target).cuda()\n",
    "\n",
    "        feature, pred = model(data)\n",
    "        _, pred_label = pred.max(dim=1)\n",
    "        \n",
    "        precision += float(torch.sum(pred_label == target))\n",
    "\n",
    "#     precision /=90000.0\n",
    "    precision /=20000.0\n",
    "    print(\"Validation accuracy: {}%\".format(precision * 100))\n",
    "    return precision\n",
    "startepoch=0\n",
    "best_precision=0.8\n",
    "for epoch in range(startepoch,startepoch+40):\n",
    "    train_precision=train(train_dataloader, model, epoch)\n",
    "    precision=test(valid_dataloader, model, epoch)\n",
    "    \n",
    "    scheduler.step()\n",
    "    if precision>best_precision:\n",
    "        best_precision=precision\n",
    "        state = {\"model\":model.state_dict(),\"epoch\":epoch,\n",
    "                 \"valid_acc\":precision,\n",
    "                 \"train_acc\":train_precision,\n",
    "            }\n",
    "        PATH =\"old_model/init1240.pkl\"\n",
    "        torch.save(state, PATH)"
   ]
  },
  {
   "cell_type": "code",
   "execution_count": null,
   "metadata": {},
   "outputs": [],
   "source": [
    "exit()"
   ]
  },
  {
   "cell_type": "code",
   "execution_count": null,
   "metadata": {},
   "outputs": [],
   "source": [
    "177.77\n",
    "22.22\n",
    "# state = {\"model\":model.state_dict(),\"epoch\":epoch,\"valid_acc\":precision }\n",
    "# PATH =\"old_model/cosin%d.pkl\"% epoch\n",
    "\n",
    "# torch.save(state, PATH)"
   ]
  },
  {
   "cell_type": "code",
   "execution_count": 18,
   "metadata": {},
   "outputs": [],
   "source": [
    "# lossbox=[]\n",
    "# accbox=[]"
   ]
  },
  {
   "cell_type": "code",
   "execution_count": 34,
   "metadata": {},
   "outputs": [],
   "source": [
    "# startepoch=1\n",
    "# for epochnum in range(startepoch,startepoch+10):\n",
    "#     epoch_acc=0\n",
    "#     for iternum,(X,Y) in enumerate(train_dataloader,1):\n",
    "#         X,Y=X.cuda(),Y.cuda()\n",
    "#         opt.zero_grad()\n",
    "#         feat,Y_pred=model(X)\n",
    "#         l=loss(Y_pred,Y)+ centerloss(target, feat)\n",
    "        \n",
    "#         l.backward()\n",
    "#         opt.step()\n",
    "        \n",
    "#         if iternum%200==0:\n",
    "#             Y_pred1=torch.argmax(Y_pred,1)\n",
    "#             acc=float(torch.sum(Y_pred1==Y))/float(len(Y))\n",
    "#             epoch_acc += 200.0*64*acc/90000.0\n",
    "#             lossbox.append(l)\n",
    "#             accbox.append(acc)\n",
    "#             print(\"Iternum{:d}\".format(iternum) + \", Minibatch Loss= \" + \"{:.6f}\".format(l.data) +\n",
    "#                     \", Training Accuracy= \"+ \"{:.5f}\".format(acc))\n",
    "        \n",
    "#     Y_pred1=torch.argmax(Y_pred,1)\n",
    "#     acc=float(torch.sum(Y_pred1==Y))/float(len(Y))\n",
    "#     epoch_acc += 400.0*acc/90000.0\n",
    "#     print(\"epochnum{:d}\".format(epochnum) + \", Minibatch Loss= \" + \"{:.6f}\".format(l.data)+\n",
    "#           \", Training epoch_Accuracy= \"+ \"{:.5f}\".format(epoch_acc))"
   ]
  },
  {
   "cell_type": "code",
   "execution_count": null,
   "metadata": {},
   "outputs": [],
   "source": []
  },
  {
   "cell_type": "code",
   "execution_count": null,
   "metadata": {},
   "outputs": [],
   "source": []
  },
  {
   "cell_type": "code",
   "execution_count": null,
   "metadata": {},
   "outputs": [],
   "source": [
    "# class ConvNet(torch.nn.Module):\n",
    "#     def __init__(self):\n",
    "#         super(ConvNet, self).__init__()\n",
    "#         self.extract = torch.nn.Sequential(\n",
    "#             torch.nn.Conv2d(1, 32, kernel_size=5, padding=2),\n",
    "#             torch.nn.PReLU(),\n",
    "#             torch.nn.Conv2d(32, 32, kernel_size=5, padding=2),\n",
    "#             torch.nn.PReLU(),\n",
    "#             torch.nn.MaxPool2d(2, 2),\n",
    "#             torch.nn.Conv2d(32, 64, kernel_size=5, padding=2),\n",
    "#             torch.nn.PReLU(),\n",
    "#             torch.nn.Conv2d(64, 64, kernel_size=5, padding=2),\n",
    "#             torch.nn.PReLU(),\n",
    "#             torch.nn.MaxPool2d(2, 2),\n",
    "#             torch.nn.Conv2d(64, 128, kernel_size=5, padding=2),\n",
    "#             torch.nn.PReLU(),\n",
    "#             torch.nn.Conv2d(128, 128, kernel_size=5, padding=2),\n",
    "#             torch.nn.PReLU(),\n",
    "#             torch.nn.MaxPool2d(2, 2),\n",
    "#         )\n",
    "#         self.feat = torch.nn.Linear(128*3*3, 2)\n",
    "#         self.pred = torch.nn.Sequential(\n",
    "#             torch.nn.Linear(2, 10)\n",
    "#         )\n",
    " \n",
    "#     def forward(self, x):\n",
    "#         x = self.extract(x)\n",
    "#         x = x.view(-1, 128*3*3)\n",
    "#         feat = self.feat(x)\n",
    "#         pred = F.log_softmax(self.pred(feat))\n",
    "#         return feat, pred"
   ]
  },
  {
   "cell_type": "code",
   "execution_count": 10,
   "metadata": {},
   "outputs": [],
   "source": [
    "X_test=ImageFolder(data_root[\"test\"],transform=test_tf)  ## lazy loding\n",
    "test_dataloader= DataLoader(X_test,batch_size=64,shuffle=True)"
   ]
  },
  {
   "cell_type": "code",
   "execution_count": 11,
   "metadata": {},
   "outputs": [
    {
     "data": {
      "application/vnd.jupyter.widget-view+json": {
       "model_id": "454af52b17544119997c2ab31bbb8e0d",
       "version_major": 2,
       "version_minor": 0
      },
      "text/plain": [
       "HBox(children=(IntProgress(value=0, max=1407), HTML(value='')))"
      ]
     },
     "metadata": {},
     "output_type": "display_data"
    },
    {
     "name": "stdout",
     "output_type": "stream",
     "text": [
      "\n"
     ]
    }
   ],
   "source": [
    "Y_predlist=[]\n",
    "Y_test=[]\n",
    "from tqdm import tqdm_notebook\n",
    "for (X,Y) in tqdm_notebook(test_dataloader):\n",
    "#     print(iternum)\n",
    "    model.eval()\n",
    "    X,Y=X.cuda(),Y.cuda()\n",
    "    model=model.cuda()\n",
    "    _,Y_pred=model(X)\n",
    "#     print(Y_pred)\n",
    "    Y_pred1=torch.argmax(Y_pred,axis=1)\n",
    "    Y_predlist.extend(Y_pred1)\n",
    "    Y_test.extend(Y)\n",
    "Y_test=torch.Tensor(Y_test)\n",
    "Y_predlist=torch.Tensor(Y_predlist)"
   ]
  },
  {
   "cell_type": "code",
   "execution_count": 12,
   "metadata": {},
   "outputs": [
    {
     "data": {
      "text/plain": [
       "0.9100555555555555"
      ]
     },
     "execution_count": 12,
     "metadata": {},
     "output_type": "execute_result"
    }
   ],
   "source": [
    "acc=float(torch.sum(Y_predlist==Y_test))/float(len(Y_test))\n",
    "acc"
   ]
  },
  {
   "cell_type": "code",
   "execution_count": null,
   "metadata": {},
   "outputs": [],
   "source": []
  }
 ],
 "metadata": {
  "kernelspec": {
   "display_name": "AI-Course",
   "language": "python",
   "name": "ai-course"
  },
  "language_info": {
   "codemirror_mode": {
    "name": "ipython",
    "version": 3
   },
   "file_extension": ".py",
   "mimetype": "text/x-python",
   "name": "python",
   "nbconvert_exporter": "python",
   "pygments_lexer": "ipython3",
   "version": "3.7.3"
  }
 },
 "nbformat": 4,
 "nbformat_minor": 4
}
