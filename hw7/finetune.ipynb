{
 "cells": [
  {
   "cell_type": "code",
   "execution_count": 1,
   "metadata": {},
   "outputs": [],
   "source": [
    "import os\n",
    "os.environ[\"CUDA_VISIBLE_DEVICES\"] = \"3\"\n",
    "import torch\n",
    "import torchvision\n",
    "import numpy as np\n",
    "import matplotlib.pyplot as plt\n",
    "\n",
    "from torchvision.datasets import ImageFolder\n",
    "from torchvision import transforms\n",
    "from torch.utils.data import DataLoader,Dataset\n",
    "from torch import nn\n",
    "import torch.nn.functional as F\n",
    "\n",
    "from torch.autograd import Variable\n",
    "import torch.utils.data as Data\n",
    "import torchvision\n",
    "\n",
    "from torchvision import transforms\n",
    "import torch.nn.functional as F\n",
    "import matplotlib.pyplot as plt\n",
    "import seaborn as sns\n",
    "import numpy as np\n",
    "import pandas as pd\n",
    "import matplotlib.patheffects as PathEffects\n",
    "# from centerLoss import CenterLoss\n",
    "import torch.optim.lr_scheduler as lr_scheduler\n",
    "import matplotlib.cm as cm\n",
    "%matplotlib inline"
   ]
  },
  {
   "cell_type": "code",
   "execution_count": 2,
   "metadata": {},
   "outputs": [
    {
     "name": "stdout",
     "output_type": "stream",
     "text": [
      "torch.cuda.is_available() = True\n",
      "torch.cuda.device_count() = 1\n",
      "os.environ['CUDA_VISIBLE_DEVICES'] = 3\n"
     ]
    }
   ],
   "source": [
    "print(f\"torch.cuda.is_available() = {torch.cuda.is_available()}\")\n",
    "print(f\"torch.cuda.device_count() = {torch.cuda.device_count()}\")\n",
    "if 'CUDA_VISIBLE_DEVICES' in os.environ:\n",
    "    print(f\"os.environ['CUDA_VISIBLE_DEVICES'] = {os.environ['CUDA_VISIBLE_DEVICES']}\")\n",
    "else:\n",
    "    print(f\"没有设置环境变量 'CUDA_VISIBLE_DEVICES'\")"
   ]
  },
  {
   "cell_type": "code",
   "execution_count": 3,
   "metadata": {},
   "outputs": [],
   "source": [
    "data_root = {\n",
    "    \"train\":\"train\",\n",
    "    \"valid\":\"valid\",\n",
    "    \"test\":\"test\"\n",
    "}"
   ]
  },
  {
   "cell_type": "code",
   "execution_count": 4,
   "metadata": {},
   "outputs": [],
   "source": [
    "def train_tf(x):\n",
    "   \n",
    "    im_aug = transforms.Compose([\n",
    "        transforms.Resize(120),\n",
    "        transforms.RandomHorizontalFlip(),\n",
    "        transforms.RandomCrop(96),\n",
    "        transforms.ColorJitter(brightness=0.5, contrast=0.5, hue=0.5),\n",
    "        transforms.ToTensor(),\n",
    "        transforms.Normalize([0.5, 0.5, 0.5], [0.5, 0.5, 0.5])\n",
    "    ])\n",
    "    x = im_aug(x)\n",
    "    return x\n",
    "\n",
    "def test_tf(x):\n",
    "   \n",
    "    im_aug = transforms.Compose([\n",
    "        transforms.Resize(120),\n",
    "        transforms.ToTensor(),\n",
    "        transforms.Normalize([0.5, 0.5, 0.5], [0.5, 0.5, 0.5])\n",
    "    ])\n",
    "    x = im_aug(x)\n",
    "    return x"
   ]
  },
  {
   "cell_type": "code",
   "execution_count": 5,
   "metadata": {},
   "outputs": [],
   "source": [
    "init_seed = 1\n",
    "torch.manual_seed(init_seed)\n",
    "torch.cuda.manual_seed(init_seed)\n",
    "np.random.seed(init_seed) "
   ]
  },
  {
   "cell_type": "code",
   "execution_count": 6,
   "metadata": {},
   "outputs": [],
   "source": [
    "X1=ImageFolder(data_root[\"train\"],transform=train_tf)  ## lazy loding\n",
    "X2=ImageFolder(data_root[\"valid\"],transform=train_tf)  ## lazy loding\n",
    "\n",
    "X=torch.utils.data.ConcatDataset([X1,X2])\n",
    "X_train,X_valid = torch.utils.data.random_split(X, [160000, 20000])\n",
    "train_dataloader= DataLoader(X_train,batch_size=64,shuffle=True)\n",
    "valid_dataloader= DataLoader(X_valid,batch_size=64,shuffle=True)"
   ]
  },
  {
   "cell_type": "code",
   "execution_count": 7,
   "metadata": {},
   "outputs": [],
   "source": [
    "# X_train=ImageFolder(data_root[\"train\"],transform=train_tf)  ## lazy loding\n",
    "# train_dataloader= DataLoader(X_train,batch_size=64,shuffle=True)"
   ]
  },
  {
   "cell_type": "code",
   "execution_count": 8,
   "metadata": {},
   "outputs": [],
   "source": [
    "# X_valid=ImageFolder(data_root[\"valid\"],transform=test_tf)  ## lazy loding\n",
    "# valid_dataloader= DataLoader(X_valid,batch_size=64,shuffle=True)"
   ]
  },
  {
   "cell_type": "code",
   "execution_count": 9,
   "metadata": {},
   "outputs": [],
   "source": [
    "class CrossEntropyLabelSmooth(nn.Module):\n",
    "\n",
    "    def __init__(self, num_classes, epsilon):\n",
    "        super(CrossEntropyLabelSmooth, self).__init__()\n",
    "        self.num_classes = num_classes\n",
    "        self.epsilon = epsilon\n",
    "        self.logsoftmax = nn.LogSoftmax(dim=1)\n",
    "\n",
    "    def forward(self, inputs, targets):\n",
    "        log_probs = self.logsoftmax(inputs)\n",
    "        targets = torch.zeros_like(log_probs).scatter_(1, targets.unsqueeze(1), 1)\n",
    "        targets = (1 - self.epsilon) * targets + self.epsilon / self.num_classes\n",
    "        loss = (-targets * log_probs).mean(0).sum()\n",
    "        return loss\n",
    "    \n",
    "class ConvNet(torch.nn.Module):\n",
    "    def __init__(self):\n",
    "        super(ConvNet, self).__init__()\n",
    "        self.extract = torch.nn.Sequential(\n",
    "            torchvision.models.resnet152(pretrained=True).conv1,\n",
    "            torchvision.models.resnet152(pretrained=True).bn1,\n",
    "            torchvision.models.resnet152(pretrained=True).relu,\n",
    "            torchvision.models.resnet152(pretrained=True).maxpool,\n",
    "            torchvision.models.resnet152(pretrained=True).layer1,\n",
    "            torchvision.models.resnet152(pretrained=True).layer2,\n",
    "            torchvision.models.resnet152(pretrained=True).layer3,\n",
    "            torchvision.models.resnet152(pretrained=True).layer4,\n",
    "            torchvision.models.resnet152(pretrained=True).avgpool,   \n",
    "        )\n",
    "        \n",
    "        self.feat = torch.nn.Sequential(\n",
    "            torch.nn.Linear(2048, 256),\n",
    "        )\n",
    "\n",
    "        for index,net in enumerate(self.feat):\n",
    "            if index==0 :\n",
    "                torch.nn.init.xavier_uniform_(net.weight)\n",
    "                \n",
    "        self.pred = torch.nn.Sequential(\n",
    "            torch.nn.Linear(256, 10),\n",
    "        )\n",
    "        \n",
    "        for index,net in enumerate(self.pred):\n",
    "            if index==0:\n",
    "                torch.nn.init.xavier_uniform_(net.weight)\n",
    "                \n",
    "    def forward(self, x):\n",
    "        x = self.extract(x)    \n",
    "        x = x.view(-1, 2048)\n",
    "        feat = self.feat(x)\n",
    "        pred = F.log_softmax(self.pred(feat),1)\n",
    "\n",
    "        return feat ,pred"
   ]
  },
  {
   "cell_type": "code",
   "execution_count": 10,
   "metadata": {},
   "outputs": [],
   "source": [
    "model = ConvNet()\n",
    "# checkpoint = torch.load(\"old_model/init1227.pkl\")\n",
    "checkpoint = torch.load(\"old_model/finetune1227.pkl\")\n",
    "model.load_state_dict(checkpoint['model'])\n",
    "# optimizer4nn =torch.optim.Adam(model.parameters(),lr=1e-3)\n",
    "\n",
    "for param in model.parameters():\n",
    "    param.requires_grad = False\n",
    "for param in model.feat.parameters():\n",
    "    param.requires_grad = True\n",
    "for param in model.pred.parameters():\n",
    "    param.requires_grad = True\n",
    "    \n",
    "model=model.cuda()\n",
    "optimizer4nn = torch.optim.SGD(filter(lambda p: p.requires_grad, model.parameters()), \n",
    "                               lr=1e-3, \n",
    "                               momentum=0.9, \n",
    "                               weight_decay=0.0005)    \n",
    "\n",
    "nllloss = CrossEntropyLabelSmooth(10,0.0).cuda()\n",
    "# scheduler = lr_scheduler.StepLR(optimizer4nn, 20, gamma=0.8)\n",
    "scheduler  = lr_scheduler.CosineAnnealingLR(optimizer4nn, T_max=5,eta_min=4e-08)\n",
    "# nllloss = torch.nn.CrossEntropyLoss().cuda()"
   ]
  },
  {
   "cell_type": "code",
   "execution_count": 11,
   "metadata": {},
   "outputs": [],
   "source": [
    "# startepoch=checkpoint[\"epoch\"]+1\n",
    "# acc=checkpoint[\"valid_acc\"]\n",
    "# acc2=checkpoint[\"train_acc\"]\n",
    "# startepoch,acc,acc2"
   ]
  },
  {
   "cell_type": "code",
   "execution_count": 12,
   "metadata": {},
   "outputs": [
    {
     "name": "stdout",
     "output_type": "stream",
     "text": [
      "Training Epoch: 0\n",
      "Epoch: 0 step: 350 loss:0.21694651246070862\n",
      "Epoch: 0 step: 700 loss:0.43420904874801636\n",
      "Epoch: 0 step: 1050 loss:0.6255621910095215\n",
      "Epoch: 0 step: 1400 loss:0.32034799456596375\n",
      "Epoch: 0 step: 1750 loss:0.39717164635658264\n",
      "Epoch: 0 step: 2100 loss:0.3900606632232666\n",
      "Epoch: 0 step: 2450 loss:0.40450114011764526\n",
      "train accuracy: 90.288125%\n",
      "Predicting Epoch: 0\n"
     ]
    },
    {
     "data": {
      "application/vnd.jupyter.widget-view+json": {
       "model_id": "1b323085b6f04cbd8a4dc03c15ca4c9c",
       "version_major": 2,
       "version_minor": 0
      },
      "text/plain": [
       "HBox(children=(IntProgress(value=0, max=313), HTML(value='')))"
      ]
     },
     "metadata": {},
     "output_type": "display_data"
    },
    {
     "name": "stdout",
     "output_type": "stream",
     "text": [
      "\n",
      "Validation accuracy: 90.765%\n",
      "Training Epoch: 1\n",
      "Epoch: 1 step: 350 loss:0.17803439497947693\n",
      "Epoch: 1 step: 700 loss:0.2242719531059265\n",
      "Epoch: 1 step: 1050 loss:0.41016799211502075\n",
      "Epoch: 1 step: 1400 loss:0.19362665712833405\n",
      "Epoch: 1 step: 1750 loss:0.35945403575897217\n",
      "Epoch: 1 step: 2100 loss:0.2527996301651001\n",
      "Epoch: 1 step: 2450 loss:0.24546442925930023\n",
      "train accuracy: 90.35625%\n",
      "Predicting Epoch: 1\n"
     ]
    },
    {
     "data": {
      "application/vnd.jupyter.widget-view+json": {
       "model_id": "5d166270b6b94a9aa2627759aafdc9d7",
       "version_major": 2,
       "version_minor": 0
      },
      "text/plain": [
       "HBox(children=(IntProgress(value=0, max=313), HTML(value='')))"
      ]
     },
     "metadata": {},
     "output_type": "display_data"
    },
    {
     "name": "stdout",
     "output_type": "stream",
     "text": [
      "\n",
      "Validation accuracy: 90.66499999999999%\n",
      "Training Epoch: 2\n",
      "Epoch: 2 step: 350 loss:0.46262383460998535\n",
      "Epoch: 2 step: 700 loss:0.569359540939331\n",
      "Epoch: 2 step: 1050 loss:0.31949594616889954\n",
      "Epoch: 2 step: 1400 loss:0.1229654848575592\n",
      "Epoch: 2 step: 1750 loss:0.2942013442516327\n",
      "Epoch: 2 step: 2100 loss:0.2693118155002594\n",
      "Epoch: 2 step: 2450 loss:0.519070029258728\n",
      "train accuracy: 90.451875%\n",
      "Predicting Epoch: 2\n"
     ]
    },
    {
     "data": {
      "application/vnd.jupyter.widget-view+json": {
       "model_id": "1472da90baca48328aba9415225ad33e",
       "version_major": 2,
       "version_minor": 0
      },
      "text/plain": [
       "HBox(children=(IntProgress(value=0, max=313), HTML(value='')))"
      ]
     },
     "metadata": {},
     "output_type": "display_data"
    },
    {
     "name": "stdout",
     "output_type": "stream",
     "text": [
      "\n",
      "Validation accuracy: 90.85%\n",
      "Training Epoch: 3\n",
      "Epoch: 3 step: 350 loss:0.09342627227306366\n",
      "Epoch: 3 step: 700 loss:0.3358127474784851\n",
      "Epoch: 3 step: 1050 loss:0.2104664444923401\n",
      "Epoch: 3 step: 1400 loss:0.11204127222299576\n",
      "Epoch: 3 step: 1750 loss:0.369768351316452\n",
      "Epoch: 3 step: 2100 loss:0.31629154086112976\n",
      "Epoch: 3 step: 2450 loss:0.436606764793396\n",
      "train accuracy: 90.51625%\n",
      "Predicting Epoch: 3\n"
     ]
    },
    {
     "data": {
      "application/vnd.jupyter.widget-view+json": {
       "model_id": "20f7b0b4757144e5b722461c89af302d",
       "version_major": 2,
       "version_minor": 0
      },
      "text/plain": [
       "HBox(children=(IntProgress(value=0, max=313), HTML(value='')))"
      ]
     },
     "metadata": {},
     "output_type": "display_data"
    },
    {
     "name": "stdout",
     "output_type": "stream",
     "text": [
      "\n",
      "Validation accuracy: 91.05%\n",
      "Training Epoch: 4\n",
      "Epoch: 4 step: 350 loss:0.14059333503246307\n",
      "Epoch: 4 step: 700 loss:0.19515332579612732\n",
      "Epoch: 4 step: 1050 loss:0.21391482651233673\n",
      "Epoch: 4 step: 1400 loss:0.39010530710220337\n",
      "Epoch: 4 step: 1750 loss:0.38953685760498047\n",
      "Epoch: 4 step: 2100 loss:0.20347608625888824\n",
      "Epoch: 4 step: 2450 loss:0.33661043643951416\n",
      "train accuracy: 90.47812499999999%\n",
      "Predicting Epoch: 4\n"
     ]
    },
    {
     "data": {
      "application/vnd.jupyter.widget-view+json": {
       "model_id": "da39b6f35982422c81eaf022b3a49a73",
       "version_major": 2,
       "version_minor": 0
      },
      "text/plain": [
       "HBox(children=(IntProgress(value=0, max=313), HTML(value='')))"
      ]
     },
     "metadata": {},
     "output_type": "display_data"
    },
    {
     "name": "stdout",
     "output_type": "stream",
     "text": [
      "\n",
      "Validation accuracy: 91.17%\n",
      "Training Epoch: 5\n",
      "Epoch: 5 step: 350 loss:0.43877461552619934\n",
      "Epoch: 5 step: 700 loss:0.3570611774921417\n",
      "Epoch: 5 step: 1050 loss:0.2857705354690552\n",
      "Epoch: 5 step: 1400 loss:0.2868243157863617\n",
      "Epoch: 5 step: 1750 loss:0.38555246591567993\n",
      "Epoch: 5 step: 2100 loss:0.2937270998954773\n",
      "Epoch: 5 step: 2450 loss:0.4959036111831665\n",
      "train accuracy: 90.57%\n",
      "Predicting Epoch: 5\n"
     ]
    },
    {
     "data": {
      "application/vnd.jupyter.widget-view+json": {
       "model_id": "8e4668046137454b852a9a71ef3980cb",
       "version_major": 2,
       "version_minor": 0
      },
      "text/plain": [
       "HBox(children=(IntProgress(value=0, max=313), HTML(value='')))"
      ]
     },
     "metadata": {},
     "output_type": "display_data"
    },
    {
     "name": "stdout",
     "output_type": "stream",
     "text": [
      "\n",
      "Validation accuracy: 91.01%\n",
      "Training Epoch: 6\n",
      "Epoch: 6 step: 350 loss:0.27231502532958984\n",
      "Epoch: 6 step: 700 loss:0.145363450050354\n",
      "Epoch: 6 step: 1050 loss:0.3861744999885559\n",
      "Epoch: 6 step: 1400 loss:0.5743677616119385\n",
      "Epoch: 6 step: 1750 loss:0.37395942211151123\n",
      "Epoch: 6 step: 2100 loss:0.43151962757110596\n",
      "Epoch: 6 step: 2450 loss:0.36022162437438965\n",
      "train accuracy: 90.506875%\n",
      "Predicting Epoch: 6\n"
     ]
    },
    {
     "data": {
      "application/vnd.jupyter.widget-view+json": {
       "model_id": "a56aff135ca64b3887e8d7b894a0f363",
       "version_major": 2,
       "version_minor": 0
      },
      "text/plain": [
       "HBox(children=(IntProgress(value=0, max=313), HTML(value='')))"
      ]
     },
     "metadata": {},
     "output_type": "display_data"
    },
    {
     "name": "stdout",
     "output_type": "stream",
     "text": [
      "\n",
      "Validation accuracy: 91.09%\n",
      "Training Epoch: 7\n",
      "Epoch: 7 step: 350 loss:0.26890259981155396\n",
      "Epoch: 7 step: 700 loss:0.1901322603225708\n",
      "Epoch: 7 step: 1050 loss:0.19747070968151093\n",
      "Epoch: 7 step: 1400 loss:0.2802574336528778\n",
      "Epoch: 7 step: 1750 loss:0.2245549112558365\n",
      "Epoch: 7 step: 2100 loss:0.24278336763381958\n",
      "Epoch: 7 step: 2450 loss:0.1784343421459198\n",
      "train accuracy: 90.5925%\n",
      "Predicting Epoch: 7\n"
     ]
    },
    {
     "data": {
      "application/vnd.jupyter.widget-view+json": {
       "model_id": "a9a9a0802e5d40769daa9e9528c3c19e",
       "version_major": 2,
       "version_minor": 0
      },
      "text/plain": [
       "HBox(children=(IntProgress(value=0, max=313), HTML(value='')))"
      ]
     },
     "metadata": {},
     "output_type": "display_data"
    },
    {
     "name": "stdout",
     "output_type": "stream",
     "text": [
      "\n",
      "Validation accuracy: 90.935%\n",
      "Training Epoch: 8\n",
      "Epoch: 8 step: 350 loss:0.2610476016998291\n",
      "Epoch: 8 step: 700 loss:0.2053956687450409\n",
      "Epoch: 8 step: 1050 loss:0.4892774522304535\n",
      "Epoch: 8 step: 1400 loss:0.31060683727264404\n",
      "Epoch: 8 step: 1750 loss:0.3611152172088623\n",
      "Epoch: 8 step: 2100 loss:0.3213304281234741\n",
      "Epoch: 8 step: 2450 loss:0.2361067235469818\n",
      "train accuracy: 90.55625%\n",
      "Predicting Epoch: 8\n"
     ]
    },
    {
     "data": {
      "application/vnd.jupyter.widget-view+json": {
       "model_id": "eaa81397b45e4ffcacb0f156a62552d4",
       "version_major": 2,
       "version_minor": 0
      },
      "text/plain": [
       "HBox(children=(IntProgress(value=0, max=313), HTML(value='')))"
      ]
     },
     "metadata": {},
     "output_type": "display_data"
    },
    {
     "name": "stdout",
     "output_type": "stream",
     "text": [
      "\n",
      "Validation accuracy: 91.175%\n",
      "Training Epoch: 9\n",
      "Epoch: 9 step: 350 loss:0.2565387487411499\n",
      "Epoch: 9 step: 700 loss:0.3268130421638489\n",
      "Epoch: 9 step: 1050 loss:0.19670775532722473\n",
      "Epoch: 9 step: 1400 loss:0.297354519367218\n",
      "Epoch: 9 step: 1750 loss:0.3721434473991394\n",
      "Epoch: 9 step: 2100 loss:0.3917069435119629\n",
      "Epoch: 9 step: 2450 loss:0.1418522298336029\n",
      "train accuracy: 90.481875%\n",
      "Predicting Epoch: 9\n"
     ]
    },
    {
     "data": {
      "application/vnd.jupyter.widget-view+json": {
       "model_id": "b9db71ab617643b1addf82d530f95dc3",
       "version_major": 2,
       "version_minor": 0
      },
      "text/plain": [
       "HBox(children=(IntProgress(value=0, max=313), HTML(value='')))"
      ]
     },
     "metadata": {},
     "output_type": "display_data"
    },
    {
     "name": "stdout",
     "output_type": "stream",
     "text": [
      "\n",
      "Validation accuracy: 90.88000000000001%\n",
      "Training Epoch: 10\n",
      "Epoch: 10 step: 350 loss:0.2734782099723816\n",
      "Epoch: 10 step: 700 loss:0.4501422345638275\n",
      "Epoch: 10 step: 1050 loss:0.35033029317855835\n",
      "Epoch: 10 step: 1400 loss:0.20884034037590027\n",
      "Epoch: 10 step: 1750 loss:0.3458065390586853\n",
      "Epoch: 10 step: 2100 loss:0.39499831199645996\n",
      "Epoch: 10 step: 2450 loss:0.26569515466690063\n",
      "train accuracy: 90.46375%\n",
      "Predicting Epoch: 10\n"
     ]
    },
    {
     "data": {
      "application/vnd.jupyter.widget-view+json": {
       "model_id": "f913bee90f2c49cfa05c8f810571ec0e",
       "version_major": 2,
       "version_minor": 0
      },
      "text/plain": [
       "HBox(children=(IntProgress(value=0, max=313), HTML(value='')))"
      ]
     },
     "metadata": {},
     "output_type": "display_data"
    },
    {
     "name": "stdout",
     "output_type": "stream",
     "text": [
      "\n",
      "Validation accuracy: 90.945%\n",
      "Training Epoch: 11\n",
      "Epoch: 11 step: 350 loss:0.4142984449863434\n",
      "Epoch: 11 step: 700 loss:0.2153615951538086\n",
      "Epoch: 11 step: 1050 loss:0.09360311925411224\n",
      "Epoch: 11 step: 1400 loss:0.12908649444580078\n",
      "Epoch: 11 step: 1750 loss:0.13351735472679138\n",
      "Epoch: 11 step: 2100 loss:0.27680861949920654\n",
      "Epoch: 11 step: 2450 loss:0.3420679569244385\n",
      "train accuracy: 90.46875%\n",
      "Predicting Epoch: 11\n"
     ]
    },
    {
     "data": {
      "application/vnd.jupyter.widget-view+json": {
       "model_id": "61ced32f1d004ed1ab4e158073dd2e12",
       "version_major": 2,
       "version_minor": 0
      },
      "text/plain": [
       "HBox(children=(IntProgress(value=0, max=313), HTML(value='')))"
      ]
     },
     "metadata": {},
     "output_type": "display_data"
    },
    {
     "name": "stdout",
     "output_type": "stream",
     "text": [
      "\n",
      "Validation accuracy: 90.94%\n",
      "Training Epoch: 12\n",
      "Epoch: 12 step: 350 loss:0.22776223719120026\n",
      "Epoch: 12 step: 700 loss:0.33421385288238525\n",
      "Epoch: 12 step: 1050 loss:0.2915284037590027\n",
      "Epoch: 12 step: 1400 loss:0.5156664848327637\n",
      "Epoch: 12 step: 1750 loss:0.5180649757385254\n",
      "Epoch: 12 step: 2100 loss:0.2846812605857849\n",
      "Epoch: 12 step: 2450 loss:0.273017555475235\n",
      "train accuracy: 90.5025%\n",
      "Predicting Epoch: 12\n"
     ]
    },
    {
     "data": {
      "application/vnd.jupyter.widget-view+json": {
       "model_id": "580a05bff72b47f9a6b0fbe02a498445",
       "version_major": 2,
       "version_minor": 0
      },
      "text/plain": [
       "HBox(children=(IntProgress(value=0, max=313), HTML(value='')))"
      ]
     },
     "metadata": {},
     "output_type": "display_data"
    },
    {
     "name": "stdout",
     "output_type": "stream",
     "text": [
      "\n",
      "Validation accuracy: 90.96%\n",
      "Training Epoch: 13\n",
      "Epoch: 13 step: 350 loss:0.18778300285339355\n",
      "Epoch: 13 step: 700 loss:0.26676538586616516\n",
      "Epoch: 13 step: 1050 loss:0.2651093602180481\n",
      "Epoch: 13 step: 1400 loss:0.3767894208431244\n",
      "Epoch: 13 step: 1750 loss:0.2497442662715912\n",
      "Epoch: 13 step: 2100 loss:0.19791895151138306\n",
      "Epoch: 13 step: 2450 loss:0.27525049448013306\n",
      "train accuracy: 90.625%\n",
      "Predicting Epoch: 13\n"
     ]
    },
    {
     "data": {
      "application/vnd.jupyter.widget-view+json": {
       "model_id": "49659cad0cd940d3bec67c30274b79de",
       "version_major": 2,
       "version_minor": 0
      },
      "text/plain": [
       "HBox(children=(IntProgress(value=0, max=313), HTML(value='')))"
      ]
     },
     "metadata": {},
     "output_type": "display_data"
    },
    {
     "name": "stdout",
     "output_type": "stream",
     "text": [
      "\n",
      "Validation accuracy: 91.08000000000001%\n",
      "Training Epoch: 14\n",
      "Epoch: 14 step: 350 loss:0.2762126326560974\n",
      "Epoch: 14 step: 700 loss:0.22500410676002502\n",
      "Epoch: 14 step: 1050 loss:0.23921088874340057\n",
      "Epoch: 14 step: 1400 loss:0.3186767101287842\n",
      "Epoch: 14 step: 1750 loss:0.2650803029537201\n",
      "Epoch: 14 step: 2100 loss:0.16005590558052063\n",
      "Epoch: 14 step: 2450 loss:0.17680342495441437\n",
      "train accuracy: 90.51625%\n",
      "Predicting Epoch: 14\n"
     ]
    },
    {
     "data": {
      "application/vnd.jupyter.widget-view+json": {
       "model_id": "ed528eee65b94b06afb8e8602a47b370",
       "version_major": 2,
       "version_minor": 0
      },
      "text/plain": [
       "HBox(children=(IntProgress(value=0, max=313), HTML(value='')))"
      ]
     },
     "metadata": {},
     "output_type": "display_data"
    },
    {
     "name": "stdout",
     "output_type": "stream",
     "text": [
      "\n",
      "Validation accuracy: 91.065%\n",
      "Training Epoch: 15\n",
      "Epoch: 15 step: 350 loss:0.4013421833515167\n",
      "Epoch: 15 step: 700 loss:0.41600126028060913\n",
      "Epoch: 15 step: 1050 loss:0.31189924478530884\n",
      "Epoch: 15 step: 1400 loss:0.46123945713043213\n",
      "Epoch: 15 step: 1750 loss:0.20401382446289062\n",
      "Epoch: 15 step: 2100 loss:0.2306327223777771\n",
      "Epoch: 15 step: 2450 loss:0.3199279010295868\n",
      "train accuracy: 90.666875%\n",
      "Predicting Epoch: 15\n"
     ]
    },
    {
     "data": {
      "application/vnd.jupyter.widget-view+json": {
       "model_id": "9a2c600653fd4af08758be08f39a7b2d",
       "version_major": 2,
       "version_minor": 0
      },
      "text/plain": [
       "HBox(children=(IntProgress(value=0, max=313), HTML(value='')))"
      ]
     },
     "metadata": {},
     "output_type": "display_data"
    },
    {
     "name": "stdout",
     "output_type": "stream",
     "text": [
      "\n",
      "Validation accuracy: 91.325%\n",
      "Training Epoch: 16\n",
      "Epoch: 16 step: 350 loss:0.4909284710884094\n",
      "Epoch: 16 step: 700 loss:0.20890772342681885\n",
      "Epoch: 16 step: 1050 loss:0.15293216705322266\n",
      "Epoch: 16 step: 1400 loss:0.30623549222946167\n",
      "Epoch: 16 step: 1750 loss:0.6411514282226562\n",
      "Epoch: 16 step: 2100 loss:0.29800450801849365\n",
      "Epoch: 16 step: 2450 loss:0.3475033640861511\n",
      "train accuracy: 90.62625%\n",
      "Predicting Epoch: 16\n"
     ]
    },
    {
     "data": {
      "application/vnd.jupyter.widget-view+json": {
       "model_id": "9eb97eb3c3734a6e8df7657d4b5bd43b",
       "version_major": 2,
       "version_minor": 0
      },
      "text/plain": [
       "HBox(children=(IntProgress(value=0, max=313), HTML(value='')))"
      ]
     },
     "metadata": {},
     "output_type": "display_data"
    },
    {
     "name": "stdout",
     "output_type": "stream",
     "text": [
      "\n",
      "Validation accuracy: 91.125%\n",
      "Training Epoch: 17\n",
      "Epoch: 17 step: 350 loss:0.2268827259540558\n",
      "Epoch: 17 step: 700 loss:0.3542368710041046\n",
      "Epoch: 17 step: 1050 loss:0.15484821796417236\n",
      "Epoch: 17 step: 1400 loss:0.23372937738895416\n",
      "Epoch: 17 step: 1750 loss:0.24327868223190308\n",
      "Epoch: 17 step: 2100 loss:0.24041564762592316\n",
      "Epoch: 17 step: 2450 loss:0.20481491088867188\n",
      "train accuracy: 90.69812499999999%\n",
      "Predicting Epoch: 17\n"
     ]
    },
    {
     "data": {
      "application/vnd.jupyter.widget-view+json": {
       "model_id": "ebe4e65e437e447f8cea75b148e993ec",
       "version_major": 2,
       "version_minor": 0
      },
      "text/plain": [
       "HBox(children=(IntProgress(value=0, max=313), HTML(value='')))"
      ]
     },
     "metadata": {},
     "output_type": "display_data"
    },
    {
     "name": "stdout",
     "output_type": "stream",
     "text": [
      "\n",
      "Validation accuracy: 91.02%\n",
      "Training Epoch: 18\n",
      "Epoch: 18 step: 350 loss:0.26519709825515747\n",
      "Epoch: 18 step: 700 loss:0.20748919248580933\n",
      "Epoch: 18 step: 1050 loss:0.21463075280189514\n",
      "Epoch: 18 step: 1400 loss:0.2502374053001404\n",
      "Epoch: 18 step: 1750 loss:0.3327312469482422\n",
      "Epoch: 18 step: 2100 loss:0.2481113076210022\n",
      "Epoch: 18 step: 2450 loss:0.1396973878145218\n",
      "train accuracy: 90.5925%\n",
      "Predicting Epoch: 18\n"
     ]
    },
    {
     "data": {
      "application/vnd.jupyter.widget-view+json": {
       "model_id": "a4b3d56bfaa747e2b047044ec5290614",
       "version_major": 2,
       "version_minor": 0
      },
      "text/plain": [
       "HBox(children=(IntProgress(value=0, max=313), HTML(value='')))"
      ]
     },
     "metadata": {},
     "output_type": "display_data"
    },
    {
     "name": "stdout",
     "output_type": "stream",
     "text": [
      "\n",
      "Validation accuracy: 91.015%\n",
      "Training Epoch: 19\n",
      "Epoch: 19 step: 350 loss:0.2590896785259247\n",
      "Epoch: 19 step: 700 loss:0.35819533467292786\n",
      "Epoch: 19 step: 1050 loss:0.10539405047893524\n",
      "Epoch: 19 step: 1400 loss:0.1607539802789688\n",
      "Epoch: 19 step: 1750 loss:0.2579590380191803\n",
      "Epoch: 19 step: 2100 loss:0.2672465443611145\n",
      "Epoch: 19 step: 2450 loss:0.2260761260986328\n",
      "train accuracy: 90.498125%\n",
      "Predicting Epoch: 19\n"
     ]
    },
    {
     "data": {
      "application/vnd.jupyter.widget-view+json": {
       "model_id": "c8bf362dcd3449d68643dff705fd8046",
       "version_major": 2,
       "version_minor": 0
      },
      "text/plain": [
       "HBox(children=(IntProgress(value=0, max=313), HTML(value='')))"
      ]
     },
     "metadata": {},
     "output_type": "display_data"
    },
    {
     "name": "stdout",
     "output_type": "stream",
     "text": [
      "\n",
      "Validation accuracy: 90.77499999999999%\n",
      "Training Epoch: 20\n",
      "Epoch: 20 step: 350 loss:0.19957205653190613\n",
      "Epoch: 20 step: 700 loss:0.2748878002166748\n",
      "Epoch: 20 step: 1050 loss:0.1158657968044281\n",
      "Epoch: 20 step: 1400 loss:0.31348469853401184\n",
      "Epoch: 20 step: 1750 loss:0.32367634773254395\n",
      "Epoch: 20 step: 2100 loss:0.25383174419403076\n",
      "Epoch: 20 step: 2450 loss:0.26679128408432007\n",
      "train accuracy: 90.54062499999999%\n",
      "Predicting Epoch: 20\n"
     ]
    },
    {
     "data": {
      "application/vnd.jupyter.widget-view+json": {
       "model_id": "63a7cc7006854f87aa79cd65fbde6a7a",
       "version_major": 2,
       "version_minor": 0
      },
      "text/plain": [
       "HBox(children=(IntProgress(value=0, max=313), HTML(value='')))"
      ]
     },
     "metadata": {},
     "output_type": "display_data"
    },
    {
     "name": "stdout",
     "output_type": "stream",
     "text": [
      "\n",
      "Validation accuracy: 90.575%\n",
      "Training Epoch: 21\n",
      "Epoch: 21 step: 350 loss:0.2584512233734131\n",
      "Epoch: 21 step: 700 loss:0.3207486867904663\n",
      "Epoch: 21 step: 1050 loss:0.20655229687690735\n",
      "Epoch: 21 step: 1400 loss:0.17863953113555908\n",
      "Epoch: 21 step: 1750 loss:0.16257482767105103\n",
      "Epoch: 21 step: 2100 loss:0.393480509519577\n",
      "Epoch: 21 step: 2450 loss:0.35569289326667786\n",
      "train accuracy: 90.59%\n",
      "Predicting Epoch: 21\n"
     ]
    },
    {
     "data": {
      "application/vnd.jupyter.widget-view+json": {
       "model_id": "5220ff9fcdf94aedaf108875a27ae000",
       "version_major": 2,
       "version_minor": 0
      },
      "text/plain": [
       "HBox(children=(IntProgress(value=0, max=313), HTML(value='')))"
      ]
     },
     "metadata": {},
     "output_type": "display_data"
    },
    {
     "name": "stdout",
     "output_type": "stream",
     "text": [
      "\n",
      "Validation accuracy: 91.185%\n",
      "Training Epoch: 22\n",
      "Epoch: 22 step: 350 loss:0.40167102217674255\n",
      "Epoch: 22 step: 700 loss:0.3096080422401428\n",
      "Epoch: 22 step: 1050 loss:0.3907132148742676\n",
      "Epoch: 22 step: 1400 loss:0.4128343164920807\n",
      "Epoch: 22 step: 1750 loss:0.3252069056034088\n",
      "Epoch: 22 step: 2100 loss:0.07214601337909698\n",
      "Epoch: 22 step: 2450 loss:0.25133007764816284\n",
      "train accuracy: 90.6575%\n",
      "Predicting Epoch: 22\n"
     ]
    },
    {
     "data": {
      "application/vnd.jupyter.widget-view+json": {
       "model_id": "da48d07aebd74e209d0eae7581f6b44c",
       "version_major": 2,
       "version_minor": 0
      },
      "text/plain": [
       "HBox(children=(IntProgress(value=0, max=313), HTML(value='')))"
      ]
     },
     "metadata": {},
     "output_type": "display_data"
    },
    {
     "name": "stdout",
     "output_type": "stream",
     "text": [
      "\n",
      "Validation accuracy: 90.93%\n",
      "Training Epoch: 23\n",
      "Epoch: 23 step: 350 loss:0.23659446835517883\n",
      "Epoch: 23 step: 700 loss:0.2580317556858063\n",
      "Epoch: 23 step: 1050 loss:0.7080651521682739\n",
      "Epoch: 23 step: 1400 loss:0.23673389852046967\n",
      "Epoch: 23 step: 1750 loss:0.2711096405982971\n",
      "Epoch: 23 step: 2100 loss:0.17434315383434296\n",
      "Epoch: 23 step: 2450 loss:0.27619487047195435\n",
      "train accuracy: 90.635%\n",
      "Predicting Epoch: 23\n"
     ]
    },
    {
     "data": {
      "application/vnd.jupyter.widget-view+json": {
       "model_id": "0576dec8e1004b5a9edcacc9c46ea72c",
       "version_major": 2,
       "version_minor": 0
      },
      "text/plain": [
       "HBox(children=(IntProgress(value=0, max=313), HTML(value='')))"
      ]
     },
     "metadata": {},
     "output_type": "display_data"
    },
    {
     "name": "stdout",
     "output_type": "stream",
     "text": [
      "\n",
      "Validation accuracy: 91.01%\n",
      "Training Epoch: 24\n",
      "Epoch: 24 step: 350 loss:0.3310081958770752\n",
      "Epoch: 24 step: 700 loss:0.3654658794403076\n",
      "Epoch: 24 step: 1050 loss:0.3851640820503235\n",
      "Epoch: 24 step: 1400 loss:0.20829321444034576\n",
      "Epoch: 24 step: 1750 loss:0.2117677628993988\n",
      "Epoch: 24 step: 2100 loss:0.2988976836204529\n",
      "Epoch: 24 step: 2450 loss:0.4458458125591278\n",
      "train accuracy: 90.731875%\n",
      "Predicting Epoch: 24\n"
     ]
    },
    {
     "data": {
      "application/vnd.jupyter.widget-view+json": {
       "model_id": "b28adb08eeb244dba6f6ead6b8e7dad1",
       "version_major": 2,
       "version_minor": 0
      },
      "text/plain": [
       "HBox(children=(IntProgress(value=0, max=313), HTML(value='')))"
      ]
     },
     "metadata": {},
     "output_type": "display_data"
    },
    {
     "name": "stdout",
     "output_type": "stream",
     "text": [
      "\n",
      "Validation accuracy: 91.03999999999999%\n",
      "Training Epoch: 25\n",
      "Epoch: 25 step: 350 loss:0.2717120349407196\n",
      "Epoch: 25 step: 700 loss:0.2879936397075653\n",
      "Epoch: 25 step: 1050 loss:0.20648179948329926\n",
      "Epoch: 25 step: 1400 loss:0.39825060963630676\n",
      "Epoch: 25 step: 1750 loss:0.3737185001373291\n",
      "Epoch: 25 step: 2100 loss:0.36793673038482666\n",
      "Epoch: 25 step: 2450 loss:0.34022825956344604\n",
      "train accuracy: 90.645%\n",
      "Predicting Epoch: 25\n"
     ]
    },
    {
     "data": {
      "application/vnd.jupyter.widget-view+json": {
       "model_id": "1153526fe3ef4d7da97092780955d9c7",
       "version_major": 2,
       "version_minor": 0
      },
      "text/plain": [
       "HBox(children=(IntProgress(value=0, max=313), HTML(value='')))"
      ]
     },
     "metadata": {},
     "output_type": "display_data"
    },
    {
     "name": "stdout",
     "output_type": "stream",
     "text": [
      "\n",
      "Validation accuracy: 91.125%\n",
      "Training Epoch: 26\n",
      "Epoch: 26 step: 350 loss:0.3325246572494507\n",
      "Epoch: 26 step: 700 loss:0.4329005479812622\n",
      "Epoch: 26 step: 1050 loss:0.35985711216926575\n",
      "Epoch: 26 step: 1400 loss:0.2426014244556427\n",
      "Epoch: 26 step: 1750 loss:0.122947558760643\n",
      "Epoch: 26 step: 2100 loss:0.29842448234558105\n",
      "Epoch: 26 step: 2450 loss:0.3751392364501953\n",
      "train accuracy: 90.680625%\n",
      "Predicting Epoch: 26\n"
     ]
    },
    {
     "data": {
      "application/vnd.jupyter.widget-view+json": {
       "model_id": "e4d4e455f4ec4f478f6ac7c99682623d",
       "version_major": 2,
       "version_minor": 0
      },
      "text/plain": [
       "HBox(children=(IntProgress(value=0, max=313), HTML(value='')))"
      ]
     },
     "metadata": {},
     "output_type": "display_data"
    },
    {
     "name": "stdout",
     "output_type": "stream",
     "text": [
      "\n",
      "Validation accuracy: 91.025%\n",
      "Training Epoch: 27\n",
      "Epoch: 27 step: 350 loss:0.2962297201156616\n",
      "Epoch: 27 step: 700 loss:0.19122052192687988\n",
      "Epoch: 27 step: 1050 loss:0.3645634949207306\n",
      "Epoch: 27 step: 1400 loss:0.3759174942970276\n",
      "Epoch: 27 step: 1750 loss:0.3042643070220947\n",
      "Epoch: 27 step: 2100 loss:0.2806326150894165\n",
      "Epoch: 27 step: 2450 loss:0.13982796669006348\n",
      "train accuracy: 90.69812499999999%\n",
      "Predicting Epoch: 27\n"
     ]
    },
    {
     "data": {
      "application/vnd.jupyter.widget-view+json": {
       "model_id": "113e2e50eed24c7c89ad07c6707f3e6d",
       "version_major": 2,
       "version_minor": 0
      },
      "text/plain": [
       "HBox(children=(IntProgress(value=0, max=313), HTML(value='')))"
      ]
     },
     "metadata": {},
     "output_type": "display_data"
    },
    {
     "name": "stdout",
     "output_type": "stream",
     "text": [
      "\n",
      "Validation accuracy: 91.01%\n",
      "Training Epoch: 28\n",
      "Epoch: 28 step: 350 loss:0.27077117562294006\n",
      "Epoch: 28 step: 700 loss:0.46377021074295044\n",
      "Epoch: 28 step: 1050 loss:0.344021737575531\n",
      "Epoch: 28 step: 1400 loss:0.32733333110809326\n",
      "Epoch: 28 step: 1750 loss:0.29354068636894226\n",
      "Epoch: 28 step: 2100 loss:0.16850893199443817\n",
      "Epoch: 28 step: 2450 loss:0.3439811170101166\n",
      "train accuracy: 90.63875%\n",
      "Predicting Epoch: 28\n"
     ]
    },
    {
     "data": {
      "application/vnd.jupyter.widget-view+json": {
       "model_id": "7b7e58bfe317474dab2553d7d6a0fc78",
       "version_major": 2,
       "version_minor": 0
      },
      "text/plain": [
       "HBox(children=(IntProgress(value=0, max=313), HTML(value='')))"
      ]
     },
     "metadata": {},
     "output_type": "display_data"
    },
    {
     "name": "stdout",
     "output_type": "stream",
     "text": [
      "\n",
      "Validation accuracy: 90.89%\n",
      "Training Epoch: 29\n",
      "Epoch: 29 step: 350 loss:0.2061324268579483\n",
      "Epoch: 29 step: 700 loss:0.23889310657978058\n",
      "Epoch: 29 step: 1050 loss:0.3214004933834076\n",
      "Epoch: 29 step: 1400 loss:0.27133944630622864\n",
      "Epoch: 29 step: 1750 loss:0.5172920227050781\n",
      "Epoch: 29 step: 2100 loss:0.3167603611946106\n",
      "Epoch: 29 step: 2450 loss:0.45744821429252625\n",
      "train accuracy: 90.635%\n",
      "Predicting Epoch: 29\n"
     ]
    },
    {
     "data": {
      "application/vnd.jupyter.widget-view+json": {
       "model_id": "ca79565e453b4dbd94c4ee95ece6cc0a",
       "version_major": 2,
       "version_minor": 0
      },
      "text/plain": [
       "HBox(children=(IntProgress(value=0, max=313), HTML(value='')))"
      ]
     },
     "metadata": {},
     "output_type": "display_data"
    },
    {
     "name": "stdout",
     "output_type": "stream",
     "text": [
      "\n",
      "Validation accuracy: 91.015%\n",
      "Training Epoch: 30\n",
      "Epoch: 30 step: 350 loss:0.11631792038679123\n",
      "Epoch: 30 step: 700 loss:0.2842869460582733\n",
      "Epoch: 30 step: 1050 loss:0.32075685262680054\n",
      "Epoch: 30 step: 1400 loss:0.2335280478000641\n",
      "Epoch: 30 step: 1750 loss:0.43055662512779236\n",
      "Epoch: 30 step: 2100 loss:0.3875189423561096\n",
      "Epoch: 30 step: 2450 loss:0.25023236870765686\n",
      "train accuracy: 90.568125%\n",
      "Predicting Epoch: 30\n"
     ]
    },
    {
     "data": {
      "application/vnd.jupyter.widget-view+json": {
       "model_id": "632f616396fc43398323a64967fe15d0",
       "version_major": 2,
       "version_minor": 0
      },
      "text/plain": [
       "HBox(children=(IntProgress(value=0, max=313), HTML(value='')))"
      ]
     },
     "metadata": {},
     "output_type": "display_data"
    },
    {
     "name": "stdout",
     "output_type": "stream",
     "text": [
      "\n",
      "Validation accuracy: 91.19500000000001%\n",
      "Training Epoch: 31\n",
      "Epoch: 31 step: 350 loss:0.5308465957641602\n",
      "Epoch: 31 step: 700 loss:0.28812292218208313\n",
      "Epoch: 31 step: 1050 loss:0.3659568727016449\n",
      "Epoch: 31 step: 1400 loss:0.3318984806537628\n",
      "Epoch: 31 step: 1750 loss:0.19456487894058228\n",
      "Epoch: 31 step: 2100 loss:0.18353396654129028\n",
      "Epoch: 31 step: 2450 loss:0.3140348792076111\n",
      "train accuracy: 90.57437499999999%\n",
      "Predicting Epoch: 31\n"
     ]
    },
    {
     "data": {
      "application/vnd.jupyter.widget-view+json": {
       "model_id": "552a58ee0b9347029e750af9810ee768",
       "version_major": 2,
       "version_minor": 0
      },
      "text/plain": [
       "HBox(children=(IntProgress(value=0, max=313), HTML(value='')))"
      ]
     },
     "metadata": {},
     "output_type": "display_data"
    },
    {
     "name": "stdout",
     "output_type": "stream",
     "text": [
      "\n",
      "Validation accuracy: 90.945%\n",
      "Training Epoch: 32\n",
      "Epoch: 32 step: 350 loss:0.30267372727394104\n",
      "Epoch: 32 step: 700 loss:0.32134494185447693\n",
      "Epoch: 32 step: 1050 loss:0.23144733905792236\n",
      "Epoch: 32 step: 1400 loss:0.28318965435028076\n",
      "Epoch: 32 step: 1750 loss:0.5013161897659302\n",
      "Epoch: 32 step: 2100 loss:0.4145183265209198\n",
      "Epoch: 32 step: 2450 loss:0.1810344159603119\n",
      "train accuracy: 90.62125%\n",
      "Predicting Epoch: 32\n"
     ]
    },
    {
     "data": {
      "application/vnd.jupyter.widget-view+json": {
       "model_id": "691d672014874f438c230f3b0c8daa2d",
       "version_major": 2,
       "version_minor": 0
      },
      "text/plain": [
       "HBox(children=(IntProgress(value=0, max=313), HTML(value='')))"
      ]
     },
     "metadata": {},
     "output_type": "display_data"
    },
    {
     "name": "stdout",
     "output_type": "stream",
     "text": [
      "\n",
      "Validation accuracy: 90.925%\n",
      "Training Epoch: 33\n",
      "Epoch: 33 step: 350 loss:0.37133097648620605\n",
      "Epoch: 33 step: 700 loss:0.17203430831432343\n",
      "Epoch: 33 step: 1050 loss:0.20454764366149902\n",
      "Epoch: 33 step: 1400 loss:0.4066495895385742\n",
      "Epoch: 33 step: 1750 loss:0.2212790995836258\n",
      "Epoch: 33 step: 2100 loss:0.2998499870300293\n",
      "Epoch: 33 step: 2450 loss:0.16144126653671265\n",
      "train accuracy: 90.61625%\n",
      "Predicting Epoch: 33\n"
     ]
    },
    {
     "data": {
      "application/vnd.jupyter.widget-view+json": {
       "model_id": "136cf975e04142b18fb05804082c67dd",
       "version_major": 2,
       "version_minor": 0
      },
      "text/plain": [
       "HBox(children=(IntProgress(value=0, max=313), HTML(value='')))"
      ]
     },
     "metadata": {},
     "output_type": "display_data"
    },
    {
     "name": "stdout",
     "output_type": "stream",
     "text": [
      "\n",
      "Validation accuracy: 90.825%\n",
      "Training Epoch: 34\n",
      "Epoch: 34 step: 350 loss:0.17485277354717255\n",
      "Epoch: 34 step: 700 loss:0.4274193048477173\n",
      "Epoch: 34 step: 1050 loss:0.3207474946975708\n",
      "Epoch: 34 step: 1400 loss:0.3258383274078369\n",
      "Epoch: 34 step: 1750 loss:0.15494823455810547\n",
      "Epoch: 34 step: 2100 loss:0.3162113428115845\n",
      "Epoch: 34 step: 2450 loss:0.2689759135246277\n",
      "train accuracy: 90.71124999999999%\n",
      "Predicting Epoch: 34\n"
     ]
    },
    {
     "data": {
      "application/vnd.jupyter.widget-view+json": {
       "model_id": "6a6129d158474401a2eb2a6abe32327f",
       "version_major": 2,
       "version_minor": 0
      },
      "text/plain": [
       "HBox(children=(IntProgress(value=0, max=313), HTML(value='')))"
      ]
     },
     "metadata": {},
     "output_type": "display_data"
    },
    {
     "name": "stdout",
     "output_type": "stream",
     "text": [
      "\n",
      "Validation accuracy: 90.74%\n",
      "Training Epoch: 35\n",
      "Epoch: 35 step: 350 loss:0.32863888144493103\n",
      "Epoch: 35 step: 700 loss:0.3875011205673218\n",
      "Epoch: 35 step: 1050 loss:0.3212117552757263\n",
      "Epoch: 35 step: 1400 loss:0.2719302177429199\n",
      "Epoch: 35 step: 1750 loss:0.26559847593307495\n",
      "Epoch: 35 step: 2100 loss:0.2536282539367676\n",
      "Epoch: 35 step: 2450 loss:0.2974853515625\n",
      "train accuracy: 90.564375%\n",
      "Predicting Epoch: 35\n"
     ]
    },
    {
     "data": {
      "application/vnd.jupyter.widget-view+json": {
       "model_id": "f89fdb0e3eb449c5a6f01f3bfe5a3db8",
       "version_major": 2,
       "version_minor": 0
      },
      "text/plain": [
       "HBox(children=(IntProgress(value=0, max=313), HTML(value='')))"
      ]
     },
     "metadata": {},
     "output_type": "display_data"
    },
    {
     "name": "stdout",
     "output_type": "stream",
     "text": [
      "\n",
      "Validation accuracy: 90.84%\n",
      "Training Epoch: 36\n",
      "Epoch: 36 step: 350 loss:0.23080262541770935\n",
      "Epoch: 36 step: 700 loss:0.3409324288368225\n",
      "Epoch: 36 step: 1050 loss:0.39427757263183594\n",
      "Epoch: 36 step: 1400 loss:0.22992490231990814\n",
      "Epoch: 36 step: 1750 loss:0.5751850605010986\n",
      "Epoch: 36 step: 2100 loss:0.10465699434280396\n",
      "Epoch: 36 step: 2450 loss:0.24853749573230743\n",
      "train accuracy: 90.71375%\n",
      "Predicting Epoch: 36\n"
     ]
    },
    {
     "data": {
      "application/vnd.jupyter.widget-view+json": {
       "model_id": "9cfc49570338473aa48a35e4fac8f6f9",
       "version_major": 2,
       "version_minor": 0
      },
      "text/plain": [
       "HBox(children=(IntProgress(value=0, max=313), HTML(value='')))"
      ]
     },
     "metadata": {},
     "output_type": "display_data"
    },
    {
     "name": "stdout",
     "output_type": "stream",
     "text": [
      "\n",
      "Validation accuracy: 91.065%\n",
      "Training Epoch: 37\n",
      "Epoch: 37 step: 350 loss:0.4098493754863739\n",
      "Epoch: 37 step: 700 loss:0.15978536009788513\n",
      "Epoch: 37 step: 1050 loss:0.24787214398384094\n",
      "Epoch: 37 step: 1400 loss:0.2622033357620239\n",
      "Epoch: 37 step: 1750 loss:0.34157612919807434\n",
      "Epoch: 37 step: 2100 loss:0.28456681966781616\n",
      "Epoch: 37 step: 2450 loss:0.25412946939468384\n",
      "train accuracy: 90.67875%\n",
      "Predicting Epoch: 37\n"
     ]
    },
    {
     "data": {
      "application/vnd.jupyter.widget-view+json": {
       "model_id": "8544ac00382649f78e3f6d82c0ba5733",
       "version_major": 2,
       "version_minor": 0
      },
      "text/plain": [
       "HBox(children=(IntProgress(value=0, max=313), HTML(value='')))"
      ]
     },
     "metadata": {},
     "output_type": "display_data"
    },
    {
     "name": "stdout",
     "output_type": "stream",
     "text": [
      "\n",
      "Validation accuracy: 90.875%\n",
      "Training Epoch: 38\n",
      "Epoch: 38 step: 350 loss:0.30008429288864136\n",
      "Epoch: 38 step: 700 loss:0.4284592866897583\n",
      "Epoch: 38 step: 1050 loss:0.3955312967300415\n",
      "Epoch: 38 step: 1400 loss:0.3480586111545563\n",
      "Epoch: 38 step: 1750 loss:0.25641489028930664\n",
      "Epoch: 38 step: 2100 loss:0.39260774850845337\n",
      "Epoch: 38 step: 2450 loss:0.2641873061656952\n",
      "train accuracy: 90.60249999999999%\n",
      "Predicting Epoch: 38\n"
     ]
    },
    {
     "data": {
      "application/vnd.jupyter.widget-view+json": {
       "model_id": "25fc4364534249e2b85fb3acedde3bb3",
       "version_major": 2,
       "version_minor": 0
      },
      "text/plain": [
       "HBox(children=(IntProgress(value=0, max=313), HTML(value='')))"
      ]
     },
     "metadata": {},
     "output_type": "display_data"
    },
    {
     "name": "stdout",
     "output_type": "stream",
     "text": [
      "\n",
      "Validation accuracy: 91.11%\n",
      "Training Epoch: 39\n",
      "Epoch: 39 step: 350 loss:0.28312966227531433\n",
      "Epoch: 39 step: 700 loss:0.40904000401496887\n",
      "Epoch: 39 step: 1050 loss:0.21202945709228516\n",
      "Epoch: 39 step: 1400 loss:0.3494466543197632\n",
      "Epoch: 39 step: 1750 loss:0.20746847987174988\n",
      "Epoch: 39 step: 2100 loss:0.4464390277862549\n",
      "Epoch: 39 step: 2450 loss:0.699643611907959\n",
      "train accuracy: 90.631875%\n",
      "Predicting Epoch: 39\n"
     ]
    },
    {
     "data": {
      "application/vnd.jupyter.widget-view+json": {
       "model_id": "a30e2286e18242b6b078c2fddd950476",
       "version_major": 2,
       "version_minor": 0
      },
      "text/plain": [
       "HBox(children=(IntProgress(value=0, max=313), HTML(value='')))"
      ]
     },
     "metadata": {},
     "output_type": "display_data"
    },
    {
     "name": "stdout",
     "output_type": "stream",
     "text": [
      "\n",
      "Validation accuracy: 90.96499999999999%\n"
     ]
    }
   ],
   "source": [
    "from tqdm import tqdm_notebook\n",
    "def train(train_loader, model, epoch):\n",
    "    print(\"Training Epoch: {}\".format(epoch))\n",
    "    model.train()\n",
    "\n",
    "    train_precision=0.0\n",
    "    for step, (data, target) in enumerate(train_loader,1):\n",
    "        data = Variable(data).cuda()\n",
    "        target = Variable(target).cuda()\n",
    "        \n",
    "        feat, pred = model(data)\n",
    "        _, pred_label = pred.max(dim=1)\n",
    "        loss=nllloss(pred, target)\n",
    "        \n",
    "        optimizer4nn.zero_grad()\n",
    "        loss.backward()\n",
    "        optimizer4nn.step()\n",
    "\n",
    "        train_precision += float(torch.sum(pred_label== target)) \n",
    "        if step % 350 == 0:\n",
    "            print(\"Epoch: {} step: {} loss:{}\".format(epoch, step,loss))\n",
    "            \n",
    "#     train_precision /= 90000.0\n",
    "    train_precision /= 160000.0\n",
    "    \n",
    "    print(\"train accuracy: {}%\".format(train_precision * 100))\n",
    "    return train_precision\n",
    "            \n",
    "def test(test_loader, model, epoch):\n",
    "    print(\"Predicting Epoch: {}\".format(epoch))\n",
    "    model.eval()\n",
    "    \n",
    "#     total_target = []\n",
    "#     total_feature = []\n",
    "    precision=0.0\n",
    "    for (data, target) in tqdm_notebook(test_loader):\n",
    "        data = Variable(data).cuda()\n",
    "        target = Variable(target).cuda()\n",
    "\n",
    "        feature, pred = model(data)\n",
    "        _, pred_label = pred.max(dim=1)\n",
    "        \n",
    "        precision += float(torch.sum(pred_label == target))\n",
    "\n",
    "#     precision /=90000.0\n",
    "    precision /=20000.0\n",
    "    print(\"Validation accuracy: {}%\".format(precision * 100))\n",
    "\n",
    "    return precision\n",
    "\n",
    "    \n",
    "startepoch=0\n",
    "best_precision=0.88\n",
    "for epoch in range(startepoch,startepoch+40):\n",
    "    train_precision=train(train_dataloader, model, epoch)\n",
    "    precision=test(valid_dataloader, model, epoch)\n",
    "    \n",
    "    scheduler.step()\n",
    "    if precision>best_precision:\n",
    "        best_precision=precision\n",
    "        state = {\"model\":model.state_dict(),\"epoch\":epoch,\n",
    "                 \"valid_acc\":precision,\n",
    "                 \"train_acc\":train_precision,\n",
    "            }\n",
    "        PATH =\"old_model/finetune1230.pkl\"\n",
    "        torch.save(state, PATH)"
   ]
  },
  {
   "cell_type": "code",
   "execution_count": 13,
   "metadata": {},
   "outputs": [],
   "source": [
    "exit()"
   ]
  },
  {
   "cell_type": "code",
   "execution_count": null,
   "metadata": {},
   "outputs": [],
   "source": [
    "177.77\n",
    "22.22"
   ]
  },
  {
   "cell_type": "code",
   "execution_count": null,
   "metadata": {},
   "outputs": [],
   "source": []
  },
  {
   "cell_type": "code",
   "execution_count": 12,
   "metadata": {},
   "outputs": [],
   "source": [
    "# def vis(feat, labels, epoch):\n",
    "#     sns.set_style(\"white\")\n",
    "#     visual_pd=pd.DataFrame(feat,columns=[\"0\",\"1\",\"2\"])\n",
    "#     visual_pd[\"labels\"]= labels\n",
    "    \n",
    "#     sns.pairplot(visual_pd,\n",
    "#                 kind = 'scatter',  # 散点图/回归分布图 {‘scatter’, ‘reg’}  \n",
    "#                 diag_kind=\"hist\",  # 直方图/密度图 {‘hist’, ‘kde’}\n",
    "#                 hue=\"labels\",     # 按照某一字段进行分类\n",
    "#                 size = 3,   # 图表大小\n",
    "#                 )\n",
    "#     plt.savefig('./images/epoch=%d.jpg' % epoch)\n",
    "    \n",
    "# target=np.random.randint(1,10,size=(90000,))\n",
    "# vis(feature_draw, target, epoch)"
   ]
  },
  {
   "cell_type": "code",
   "execution_count": null,
   "metadata": {},
   "outputs": [],
   "source": []
  },
  {
   "cell_type": "code",
   "execution_count": null,
   "metadata": {},
   "outputs": [],
   "source": []
  },
  {
   "cell_type": "code",
   "execution_count": 12,
   "metadata": {},
   "outputs": [],
   "source": [
    "X_test=ImageFolder(data_root[\"test\"],transform=test_tf)  ## lazy loding\n",
    "test_dataloader= DataLoader(X_test,batch_size=64,shuffle=True)"
   ]
  },
  {
   "cell_type": "code",
   "execution_count": 13,
   "metadata": {},
   "outputs": [
    {
     "data": {
      "application/vnd.jupyter.widget-view+json": {
       "model_id": "dd0e9117d52245538140f58ea9fb4871",
       "version_major": 2,
       "version_minor": 0
      },
      "text/plain": [
       "HBox(children=(IntProgress(value=0, max=1407), HTML(value='')))"
      ]
     },
     "metadata": {},
     "output_type": "display_data"
    },
    {
     "name": "stdout",
     "output_type": "stream",
     "text": [
      "\n"
     ]
    }
   ],
   "source": [
    "Y_predlist=[]\n",
    "Y_test=[]\n",
    "from tqdm import tqdm_notebook\n",
    "for (X,Y) in tqdm_notebook(test_dataloader):\n",
    "    model.eval()\n",
    "    X,Y=X.cuda(),Y.cuda()\n",
    "    model=model.cuda()\n",
    "    _,Y_pred=model(X)\n",
    "#     print(Y_pred)\n",
    "    Y_pred1=torch.argmax(Y_pred,axis=1)\n",
    "    Y_predlist.extend(Y_pred1)\n",
    "    Y_test.extend(Y)\n",
    "Y_test=torch.Tensor(Y_test)\n",
    "Y_predlist=torch.Tensor(Y_predlist)"
   ]
  },
  {
   "cell_type": "code",
   "execution_count": 14,
   "metadata": {},
   "outputs": [
    {
     "data": {
      "text/plain": [
       "0.8935444444444445"
      ]
     },
     "execution_count": 14,
     "metadata": {},
     "output_type": "execute_result"
    }
   ],
   "source": [
    "acc=float(torch.sum(Y_predlist==Y_test))/float(len(Y_test))\n",
    "acc"
   ]
  },
  {
   "cell_type": "code",
   "execution_count": null,
   "metadata": {},
   "outputs": [],
   "source": []
  }
 ],
 "metadata": {
  "kernelspec": {
   "display_name": "AI-Course",
   "language": "python",
   "name": "ai-course"
  },
  "language_info": {
   "codemirror_mode": {
    "name": "ipython",
    "version": 3
   },
   "file_extension": ".py",
   "mimetype": "text/x-python",
   "name": "python",
   "nbconvert_exporter": "python",
   "pygments_lexer": "ipython3",
   "version": "3.7.3"
  }
 },
 "nbformat": 4,
 "nbformat_minor": 4
}
