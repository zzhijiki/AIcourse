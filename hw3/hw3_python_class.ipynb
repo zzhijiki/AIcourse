{
 "cells": [
  {
   "cell_type": "markdown",
   "metadata": {},
   "source": [
    "# 作业三\n",
    "\n",
    "## 一、Python类"
   ]
  },
  {
   "cell_type": "code",
   "execution_count": 1,
   "metadata": {},
   "outputs": [],
   "source": [
    "import numpy as np\n",
    "import matplotlib.pyplot as plt"
   ]
  },
  {
   "cell_type": "code",
   "execution_count": 2,
   "metadata": {},
   "outputs": [],
   "source": [
    "class DummyData:\n",
    "    def __init__(self, num=200):\n",
    "        self.num = num\n",
    "        \n",
    "    def load_data(self, train=True):\n",
    "        W = [0.3, 2, 1]\n",
    "        if train:\n",
    "            X = np.linspace(-2, 2, num=self.num)\n",
    "            Y = W[0]*X**2 + W[1]*X + W[2] + 0.4*np.random.randn(X.size)\n",
    "        else:\n",
    "            X = np.linspace(-10, 10, num=self.num)\n",
    "            Y = W[0]*X**2 + W[1]*X + W[2] + 5*np.random.randn(X.size)\n",
    "        return X, Y"
   ]
  },
  {
   "cell_type": "code",
   "execution_count": 3,
   "metadata": {},
   "outputs": [],
   "source": [
    "X_train, Y_train = DummyData(500).load_data()\n",
    "X_valid, Y_valid = DummyData(200).load_data(train=False)"
   ]
  },
  {
   "cell_type": "code",
   "execution_count": 4,
   "metadata": {},
   "outputs": [
    {
     "data": {
      "text/plain": [
       "<matplotlib.legend.Legend at 0x7fa4598c0dd8>"
      ]
     },
     "execution_count": 4,
     "metadata": {},
     "output_type": "execute_result"
    },
    {
     "data": {
      "image/png": "[encoded data removed]",
      "text/plain": [
       "<Figure size 432x288 with 1 Axes>"
      ]
     },
     "metadata": {
      "needs_background": "light"
     },
     "output_type": "display_data"
    }
   ],
   "source": [
    "plt.scatter(X_train, Y_train)\n",
    "plt.scatter(X_valid, Y_valid)\n",
    "plt.legend([\"Training data\", \"Validation data\"])"
   ]
  },
  {
   "cell_type": "markdown",
   "metadata": {},
   "source": [
    "# 拟合上述曲线\n",
    "\n",
    "要求：\n",
    "\n",
    "* 函数$ f(x) = w_0x^2 + w_1x + w_2 $\n",
    "* 误差采用均方误差 $L := \\frac{\\sum_{i=1}^{n}(f(X_i) - Y_i)^2}{n}$\n",
    "* 固定步长的梯度下降法\n",
    "* 在尽可能不修改代码结构的前提下完成工作\n",
    "* 利用`X_train, Y_train`拟合，利用`X_valid, Y_valid`来验证拟合的效果"
   ]
  },
  {
   "cell_type": "markdown",
   "metadata": {},
   "source": [
    "## 定义模型、优化器及误差"
   ]
  },
  {
   "cell_type": "code",
   "execution_count": 5,
   "metadata": {},
   "outputs": [],
   "source": [
    "# 只需要修改这一部分 -- 代码量在20行以内\n",
    "class Parabola:\n",
    "    def __init__(self):\n",
    "        self.W = np.zeros(3)\n",
    "        \n",
    "    def __call__(self, X):\n",
    "        return self.predict(X)\n",
    "    \n",
    "    def predict(self, X):\n",
    "        \"\"\"计算f(X)，X为向量\"\"\"\n",
    "        assert len(X.shape)==1\n",
    "        # 实现它\n",
    "        return self.W[0]*X**2 + self.W[1]*X + self.W[2]\n",
    "\n",
    "        \n",
    "class GradientDescent:\n",
    "    def __init__(self, step=1e-3):\n",
    "        self.step = step\n",
    "        \n",
    "    def update(self, f:Parabola, dW):\n",
    "        \"\"\"利用梯度dW来更新f的权重\"\"\"\n",
    "        # 实现它\n",
    "#         print(\"dW \",dW.shape)\n",
    "        f.W= f.W-self.step* dW\n",
    "        return f.W\n",
    "        \n",
    "\n",
    "def loss(predict, real):\n",
    "    \"\"\"计算预测值与真实值之间的误差 L\"\"\"\n",
    "    assert len(real.shape)==1\n",
    "    assert real.size == predict.size\n",
    "    # 实现它\n",
    "    Loss= np.mean(np.square(predict-real))\n",
    "    return Loss\n",
    "    \n",
    "    \n",
    "def grad(f, X, Y):\n",
    "    \"\"\"计算L在X处的关于参数W的导数, 其中Y=f(X)， X、Y均为向量\"\"\"\n",
    "    assert len(X.shape)==1\n",
    "    n=X.shape[0]\n",
    "    # 实现它\n",
    "    return np.array([2/n*(f(X)-Y).dot(k) for k in [np.square(X),X,np.ones(n)]])"
   ]
  },
  {
   "cell_type": "markdown",
   "metadata": {},
   "source": [
    "## 拟合模型"
   ]
  },
  {
   "cell_type": "code",
   "execution_count": 6,
   "metadata": {},
   "outputs": [
    {
     "name": "stdout",
     "output_type": "stream",
     "text": [
      "Iter 0: train loss 7.421408413075678, valid loss 367.64663830358717\n",
      "Iter 50: train loss 5.192067526575431, valid loss 164.40707652207195\n",
      "Iter 100: train loss 3.783942067792783, valid loss 106.82625413785296\n",
      "Iter 150: train loss 2.8428129456632454, valid loss 101.11213012983677\n",
      "Iter 200: train loss 2.184626347580758, valid loss 109.66628800870902\n",
      "Iter 250: train loss 1.7086761420772227, valid loss 118.78755005594574\n",
      "Iter 300: train loss 1.3564149587817342, valid loss 124.48742806653907\n",
      "Iter 350: train loss 1.0915816793336097, valid loss 126.4107083261228\n",
      "Iter 400: train loss 0.8903671709047105, valid loss 125.33217389913321\n",
      "Iter 450: train loss 0.7363674771754694, valid loss 122.19705355974604\n",
      "Iter 500: train loss 0.6178654206459889, valid loss 117.80469232098149\n",
      "Iter 550: train loss 0.5262780580997103, valid loss 112.74418209913802\n",
      "Iter 600: train loss 0.45521212830758895, valid loss 107.41718471030254\n",
      "Iter 650: train loss 0.39985364903188236, valid loss 102.08216886239246\n",
      "Iter 700: train loss 0.3565527174982544, valid loss 96.89636647759671\n",
      "Iter 750: train loss 0.3225297642989583, valid loss 91.94883455075029\n",
      "Iter 800: train loss 0.29566185558394986, valid loss 87.28436992834904\n",
      "Iter 850: train loss 0.27432429543824355, valid loss 82.91997143604344\n",
      "Iter 900: train loss 0.2572717923059831, valid loss 78.85580053644371\n",
      "Iter 950: train loss 0.24354862632147628, valid loss 75.08229401147955\n"
     ]
    }
   ],
   "source": [
    "f = Parabola()\n",
    "opt = GradientDescent(1e-3)\n",
    "\n",
    "valid_losses = []\n",
    "train_losses = []\n",
    "for i in range(1000):\n",
    "    X, Y = X_train, Y_train\n",
    "    \n",
    "    Y_out = f(X)\n",
    "    dW = grad(f, X, Y)\n",
    "    opt.update(f, dW)\n",
    "#     \n",
    "    cur_valid_loss = loss(Y_valid, f(X_valid))\n",
    "    cur_train_loss = loss(Y_out,Y)\n",
    "    \n",
    "    valid_losses.append(cur_valid_loss) \n",
    "    train_losses.append(cur_train_loss)\n",
    "    \n",
    "    if i%50 == 0:\n",
    "        print(f\"Iter {i}: train loss {cur_train_loss}, valid loss {cur_valid_loss}\")"
   ]
  },
  {
   "cell_type": "markdown",
   "metadata": {},
   "source": [
    "## 显示结果\n",
    "\n",
    "结果不好是正常的 "
   ]
  },
  {
   "cell_type": "code",
   "execution_count": 7,
   "metadata": {},
   "outputs": [
    {
     "data": {
      "text/plain": [
       "<matplotlib.legend.Legend at 0x7fa459351dd8>"
      ]
     },
     "execution_count": 7,
     "metadata": {},
     "output_type": "execute_result"
    },
    {
     "data": {
      "image/png": "[encoded data removed]",
      "text/plain": [
       "<Figure size 432x288 with 1 Axes>"
      ]
     },
     "metadata": {
      "needs_background": "light"
     },
     "output_type": "display_data"
    }
   ],
   "source": [
    "plt.plot(train_losses)\n",
    "plt.plot(valid_losses)\n",
    "plt.legend([\"train loss\", \"validation loss\"])"
   ]
  },
  {
   "cell_type": "code",
   "execution_count": 8,
   "metadata": {},
   "outputs": [
    {
     "data": {
      "text/plain": [
       "<matplotlib.legend.Legend at 0x7fa4592c8d30>"
      ]
     },
     "execution_count": 8,
     "metadata": {},
     "output_type": "execute_result"
    },
    {
     "data": {
      "image/png": "[encoded data removed]",
      "text/plain": [
       "<Figure size 432x288 with 1 Axes>"
      ]
     },
     "metadata": {
      "needs_background": "light"
     },
     "output_type": "display_data"
    }
   ],
   "source": [
    "plt.scatter(X_valid, f(X_valid))\n",
    "plt.scatter(X_valid, Y_valid)\n",
    "plt.legend([\"prediction\", \"ground truth\"])"
   ]
  },
  {
   "cell_type": "code",
   "execution_count": null,
   "metadata": {},
   "outputs": [],
   "source": []
  }
 ],
 "metadata": {
  "kernelspec": {
   "display_name": "AI-Course",
   "language": "python",
   "name": "ai-course"
  },
  "language_info": {
   "codemirror_mode": {
    "name": "ipython",
    "version": 3
   },
   "file_extension": ".py",
   "mimetype": "text/x-python",
   "name": "python",
   "nbconvert_exporter": "python",
   "pygments_lexer": "ipython3",
   "version": "3.7.3"
  }
 },
 "nbformat": 4,
 "nbformat_minor": 4
}
