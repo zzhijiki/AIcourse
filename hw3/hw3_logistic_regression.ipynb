{
 "cells": [
  {
   "cell_type": "code",
   "execution_count": 1,
   "metadata": {
    "ExecuteTime": {
     "end_time": "2019-10-22T14:19:15.682897Z",
     "start_time": "2019-10-22T14:19:13.076175Z"
    }
   },
   "outputs": [],
   "source": [
    "from sklearn import datasets\n",
    "import matplotlib.pyplot as plt\n",
    "import numpy as np\n",
    "import math"
   ]
  },
  {
   "cell_type": "code",
   "execution_count": 2,
   "metadata": {
    "ExecuteTime": {
     "end_time": "2019-10-22T14:19:17.168965Z",
     "start_time": "2019-10-22T14:19:17.155964Z"
    }
   },
   "outputs": [],
   "source": [
    "def load_iris(ratio=0.8):\n",
    "    features, target = datasets.load_iris(True)\n",
    "\n",
    "    # 只保留0,1分类 -- 把任务变成二分类任务\n",
    "    #如果做多分类任务请注释这一段话\n",
    "\n",
    "    #     idx = np.bitwise_or(target == 0, target == 1)\n",
    "    #     features = features[idx]\n",
    "    #     target = target[idx]\n",
    "\n",
    "    num_samples = len(target)\n",
    "    num_train = math.ceil(num_samples * ratio)\n",
    "\n",
    "    # 随机打乱数据\n",
    "    #np.random.seed(3)\n",
    "    idx = np.random.permutation(np.arange(num_samples))\n",
    "    traindata = features[idx[:num_train]], target[idx[:num_train]]\n",
    "    validdata = features[idx[num_train:]], target[idx[num_train:]]\n",
    "\n",
    "    return traindata, validdata"
   ]
  },
  {
   "cell_type": "markdown",
   "metadata": {},
   "source": [
    "# 作业三\n",
    "\n",
    "## 四、Logistic回归"
   ]
  },
  {
   "cell_type": "markdown",
   "metadata": {},
   "source": [
    "读取数据"
   ]
  },
  {
   "cell_type": "code",
   "execution_count": 3,
   "metadata": {
    "ExecuteTime": {
     "end_time": "2019-10-22T14:19:18.089811Z",
     "start_time": "2019-10-22T14:19:18.074810Z"
    }
   },
   "outputs": [],
   "source": [
    "(X_train, Y_train), (X_valid, Y_valid) = load_iris()"
   ]
  },
  {
   "cell_type": "code",
   "execution_count": 4,
   "metadata": {
    "ExecuteTime": {
     "end_time": "2019-10-22T14:19:18.670443Z",
     "start_time": "2019-10-22T14:19:18.663443Z"
    }
   },
   "outputs": [
    {
     "data": {
      "text/plain": [
       "(120, 4)"
      ]
     },
     "execution_count": 4,
     "metadata": {},
     "output_type": "execute_result"
    }
   ],
   "source": [
    "X_train.shape"
   ]
  },
  {
   "cell_type": "markdown",
   "metadata": {},
   "source": [
    "### 一、定义线性回归函数\n",
    "\n",
    "为了简化推导，记$\\hat{Y} = WX+b$\n",
    "\n",
    "预测 -- 取下述概率最大的值：\n",
    "\n",
    "$$P(class=1|x) = \\frac{\\exp(\\hat{Y})}{1+\\exp(\\hat{Y})}$$\n",
    "$$P(class=0|x) = \\frac{1}{1+\\exp(\\hat{Y})}$$"
   ]
  },
  {
   "cell_type": "code",
   "execution_count": 5,
   "metadata": {
    "ExecuteTime": {
     "end_time": "2019-10-22T14:19:22.943847Z",
     "start_time": "2019-10-22T14:19:22.912647Z"
    }
   },
   "outputs": [],
   "source": [
    "class Logistic:\n",
    "    def __init__(self, in_channels):\n",
    "        self.W = np.zeros((in_channels, 3))  ##4,3\n",
    "        self.b = 0\n",
    "\n",
    "    def __call__(self, X):\n",
    "        \"\"\"计算 \\hat{Y} = WX + b，其中WX为内积\"\"\"\n",
    "        assert len(X.shape) == 2\n",
    "        # 这里只计算WX+b，因为在计算对数似然函数时需要用到该值\n",
    "\n",
    "        # 实现它\n",
    "\n",
    "        return X.dot(self.W) + self.b\n",
    "\n",
    "    def predict(self, X):\n",
    "        \"\"\"预测X所属的类别\"\"\"\n",
    "        assert len(X.shape) == 2\n",
    "        #         /(1.0+ sum( np.exp( Logistic(X) ) ) )\n",
    "        # 实现它\n",
    "        list1 = np.array([np.exp(self.__call__(X))[:, i] for i in [0,1,2]])\n",
    "        \n",
    "#         list2 = np.ones((1, 120))\n",
    "#         list3 = np.r_[list1, list2]\n",
    "#         list3 = list3 / np.sum(list3, axis=0)\n",
    "        list1 = list1 / np.sum(list1, axis=0)\n",
    "        return list1.T # 输出的是属于各项的概率\n",
    "# \n",
    "\n",
    "def accuracy(real, predict):\n",
    "    \"\"\"计算预测准确度\"\"\"\n",
    "    predict=np.argmax(predict, axis=1)  ## 预测为概率最大项\n",
    "    return np.sum(real == predict) / real.size"
   ]
  },
  {
   "cell_type": "code",
   "execution_count": 6,
   "metadata": {
    "ExecuteTime": {
     "end_time": "2019-10-22T14:19:23.814289Z",
     "start_time": "2019-10-22T14:19:23.793288Z"
    }
   },
   "outputs": [
    {
     "data": {
      "text/plain": [
       "(120, 3)"
      ]
     },
     "execution_count": 6,
     "metadata": {},
     "output_type": "execute_result"
    }
   ],
   "source": [
    "# 测试LinearLayer是否能够正确调用\n",
    "num_features = X_train.shape[-1]\n",
    "f = Logistic(num_features)\n",
    "\n",
    "f(X_train).shape"
   ]
  },
  {
   "cell_type": "code",
   "execution_count": 7,
   "metadata": {
    "ExecuteTime": {
     "end_time": "2019-10-22T14:19:24.738730Z",
     "start_time": "2019-10-22T14:19:24.721729Z"
    }
   },
   "outputs": [
    {
     "data": {
      "text/plain": [
       "(120, 3)"
      ]
     },
     "execution_count": 7,
     "metadata": {},
     "output_type": "execute_result"
    }
   ],
   "source": [
    "f.predict(X_train).shape"
   ]
  },
  {
   "cell_type": "code",
   "execution_count": 8,
   "metadata": {
    "ExecuteTime": {
     "end_time": "2019-10-22T14:19:25.260760Z",
     "start_time": "2019-10-22T14:19:25.249759Z"
    }
   },
   "outputs": [
    {
     "data": {
      "text/plain": [
       "0.375"
      ]
     },
     "execution_count": 8,
     "metadata": {},
     "output_type": "execute_result"
    }
   ],
   "source": [
    "accuracy(Y_train, f.predict(X_train)) # 瞎猜 -- 50%左右的分类准确度\n",
    "## 三分类的确是0.333"
   ]
  },
  {
   "cell_type": "markdown",
   "metadata": {},
   "source": [
    "### 二、定义误差 -- 对数似然函数\n",
    "\n",
    "$$ L(Y, \\hat{Y}) = \\sum_{i=1}^{N} [y_i\\hat{y}_i - log(1+\\exp(\\hat{y}_i))]$$\n",
    "$$ L(Y, \\hat{Y}) = - \\sum_{i=1}^{N} y_i * log(\\hat{y}_i)$$\n",
    "其中$Y$为真实值，$\\hat{Y} = Wx + b$为预测值\n",
    "\n",
    "注：$L(Y, \\hat{Y}) \\neq L(\\hat{Y}, Y)$"
   ]
  },
  {
   "cell_type": "code",
   "execution_count": 9,
   "metadata": {
    "ExecuteTime": {
     "end_time": "2019-10-22T14:19:26.562618Z",
     "start_time": "2019-10-22T14:19:26.544617Z"
    }
   },
   "outputs": [],
   "source": [
    "class NegativeLogLikelihood:\n",
    "    # 梯度下降法求解的问题实际上是 min. -L\n",
    "    def __call__(self, real, predict):\n",
    "        \"\"\"\n",
    "        real: 是真实的标签\n",
    "        predict：是属于每一项的概率\n",
    "        \"\"\"\n",
    "        assert len(real.shape) == 1\n",
    "        #assert real.size == predict.size\n",
    "        assert predict.shape[1] == 3\n",
    "\n",
    "        ## one-hot编码\n",
    "        real = np.eye(3)[real]\n",
    "\n",
    "        ## loss = - sum(yi log yi^)\n",
    "        ### 括号内恰好是onehot和 predict 乘积的对角线   或者直接转置对应元素相乘都可\n",
    "        #Loss= - np.mean(np.diag(real.T.dot(np.log(predict+1e-5))))\n",
    "        Loss = -np.sum(real * (np.log(predict+1e-5)))\n",
    "        ## 真就不用除以N呗\n",
    "        return Loss"
   ]
  },
  {
   "cell_type": "code",
   "execution_count": 10,
   "metadata": {
    "ExecuteTime": {
     "end_time": "2019-10-22T14:19:27.313459Z",
     "start_time": "2019-10-22T14:19:27.291458Z"
    },
    "scrolled": true
   },
   "outputs": [
    {
     "data": {
      "text/plain": [
       "131.82987469417208"
      ]
     },
     "execution_count": 10,
     "metadata": {},
     "output_type": "execute_result"
    }
   ],
   "source": [
    "# 测试loss是否能够正确调用\n",
    "loss = NegativeLogLikelihood()\n",
    "loss(Y_train, f.predict(X_train))  ## 此处修改了模板"
   ]
  },
  {
   "cell_type": "markdown",
   "metadata": {},
   "source": [
    "### 三、计算梯度\n",
    "\n",
    "为了使用梯度下降法，需要计算梯度$(\\frac{\\partial L}{\\partial W}, \\frac{\\partial L}{\\partial b})$\n",
    "\n",
    "利用链式法则：\n",
    "\n",
    "$$ \\frac{\\partial L}{\\partial W} = \\sum_{i=1}^{N}\\frac{\\partial L}{\\partial \\hat{Y}_i} \\frac{\\partial \\hat{Y}_i}{\\partial W} $$\n",
    "$$ \\frac{\\partial L}{\\partial b} = \\sum_{i=1}^{N}\\frac{\\partial L}{\\partial \\hat{Y}_i} \\frac{\\partial \\hat{Y}_i}{\\partial b} $$"
   ]
  },
  {
   "cell_type": "code",
   "execution_count": 11,
   "metadata": {
    "ExecuteTime": {
     "end_time": "2019-10-22T14:19:28.836731Z",
     "start_time": "2019-10-22T14:19:28.813730Z"
    }
   },
   "outputs": [],
   "source": [
    "def grad(Y, X, Y_out):\n",
    "    \"\"\"\n",
    "    计算负对数似然函数在(X, Y)上关于W与b的偏导数\n",
    "    Inputs:\n",
    "      Y: shape (N, )\n",
    "        类别的真实值\n",
    "      X: shape (N, C)\n",
    "        输入特征\n",
    "      Y_out: shape (N, )\n",
    "        Y_out = WX+b\n",
    "\n",
    "    Outputs:\n",
    "      dLdW: shape (C, )\n",
    "      dLdb: shape (1, )\n",
    "    \"\"\"\n",
    "    # 实现它\n",
    "    \n",
    "    dLdY = Y_out-np.eye(3)[Y]  # dLdY.shape == (?, ) （?为占位符, 不需要回答..)   120,3\n",
    "    dYdW = X.T                 # dYdW.shape == (?, 4)   4,120\n",
    "    dLdW = dYdW.dot(dLdY)     #     4,3 \n",
    "    \n",
    "    dYdb =1  # dYdb.shape == (?, 1)\n",
    "\n",
    "    dLdb = np.sum(dYdb*dLdY)  # dLdb.shape == (1, )\n",
    "    \n",
    "    return dLdW, dLdb"
   ]
  },
  {
   "cell_type": "code",
   "execution_count": 12,
   "metadata": {
    "ExecuteTime": {
     "end_time": "2019-10-22T14:19:29.708777Z",
     "start_time": "2019-10-22T14:19:29.679775Z"
    }
   },
   "outputs": [
    {
     "data": {
      "text/plain": [
       "(array([[  5.93333333, -14.46666667,   8.53333333],\n",
       "        [-30.86666667,   8.03333333,  22.83333333],\n",
       "        [ 77.2       , -32.8       , -44.4       ],\n",
       "        [ 33.83333333,  -9.96666667, -23.86666667]]), -1.5765166949677223e-14)"
      ]
     },
     "execution_count": 12,
     "metadata": {},
     "output_type": "execute_result"
    }
   ],
   "source": [
    "# 测试梯度是否正确计算\n",
    "grad(Y_train, X_train, f.predict(X_train))\n"
   ]
  },
  {
   "cell_type": "code",
   "execution_count": 13,
   "metadata": {
    "ExecuteTime": {
     "end_time": "2019-10-22T14:19:30.763428Z",
     "start_time": "2019-10-22T14:19:30.731827Z"
    }
   },
   "outputs": [],
   "source": [
    "class GradientDescent:\n",
    "    def __init__(self, step=1e-3, thres=1e3):\n",
    "        self.step = step\n",
    "        self.thres = np.abs(thres)\n",
    "\n",
    "    def update(self, f: Logistic, dLdW, dLdb):\n",
    "        \"\"\"利用梯度dW来更新f的权重\"\"\"\n",
    "        \n",
    "        f.W=f.W- self.step*dLdW\n",
    "        f.b=f.b- self.step*dLdb\n",
    "        \n",
    "        return f.W,f.b"
   ]
  },
  {
   "cell_type": "code",
   "execution_count": 14,
   "metadata": {
    "ExecuteTime": {
     "end_time": "2019-10-22T14:19:31.567465Z",
     "start_time": "2019-10-22T14:19:31.554464Z"
    }
   },
   "outputs": [
    {
     "name": "stdout",
     "output_type": "stream",
     "text": [
      "before update: loss:131.8299 accuracy:0.375\n",
      "after update: loss:121.9075 accuracy:0.3416666666666667\n"
     ]
    }
   ],
   "source": [
    "# 测试梯度更新是否正常工作\n",
    "opt = GradientDescent(1e-3)\n",
    "f = Logistic(num_features)\n",
    "\n",
    "print(\n",
    "    f\"before update: loss:{loss(Y_train, f.predict(X_train)):.4f} accuracy:{accuracy(Y_train, f.predict(X_train))}\"\n",
    ")\n",
    "\n",
    "dLdW, dLdb = grad(Y_train, X_train, f.predict(X_train))\n",
    "opt.update(f, dLdW, dLdb)\n",
    "\n",
    "print(\n",
    "    f\"after update: loss:{loss(Y_train,  f.predict(X_train)):.4f} accuracy:{accuracy(Y_train, f.predict(X_train))}\"\n",
    ")\n"
   ]
  },
  {
   "cell_type": "markdown",
   "metadata": {},
   "source": [
    "### 四、把所有函数组合成一个完整的训练过程"
   ]
  },
  {
   "cell_type": "code",
   "execution_count": 15,
   "metadata": {},
   "outputs": [],
   "source": [
    "(X_train, Y_train), (X_valid, Y_valid) = load_iris()"
   ]
  },
  {
   "cell_type": "code",
   "execution_count": 16,
   "metadata": {
    "ExecuteTime": {
     "end_time": "2019-10-22T14:20:27.946761Z",
     "start_time": "2019-10-22T14:20:25.803462Z"
    }
   },
   "outputs": [
    {
     "name": "stdout",
     "output_type": "stream",
     "text": [
      "Iter 0: loss 131.8299, accu: 0.3250, valid loss 32.9057, valid accu 0.3667\n",
      "Iter 250: loss 109.2564, accu: 0.6750, valid loss 27.7319, valid accu 0.6333\n",
      "Iter 500: loss 95.3659, accu: 0.6750, valid loss 24.8218, valid accu 0.6333\n",
      "Iter 750: loss 85.9674, accu: 0.6750, valid loss 22.7897, valid accu 0.6333\n",
      "Iter 1000: loss 79.2939, accu: 0.6917, valid loss 21.3116, valid accu 0.6333\n",
      "Iter 1250: loss 74.3239, accu: 0.6917, valid loss 20.1911, valid accu 0.6667\n",
      "Iter 1500: loss 70.4651, accu: 0.7667, valid loss 19.3095, valid accu 0.7333\n",
      "Iter 1750: loss 67.3625, accu: 0.8000, valid loss 18.5936, valid accu 0.7667\n",
      "Iter 2000: loss 64.7948, accu: 0.8167, valid loss 17.9969, valid accu 0.7667\n",
      "Iter 2250: loss 62.6184, accu: 0.8500, valid loss 17.4884, valid accu 0.8333\n",
      "Iter 2500: loss 60.7367, accu: 0.8750, valid loss 17.0469, valid accu 0.8333\n",
      "Iter 2750: loss 59.0826, accu: 0.8833, valid loss 16.6579, valid accu 0.8333\n",
      "Iter 3000: loss 57.6083, accu: 0.8833, valid loss 16.3104, valid accu 0.8333\n",
      "Iter 3250: loss 56.2789, accu: 0.8917, valid loss 15.9966, valid accu 0.8333\n",
      "Iter 3500: loss 55.0679, accu: 0.9167, valid loss 15.7107, valid accu 0.9000\n",
      "Iter 3750: loss 53.9556, accu: 0.9167, valid loss 15.4479, valid accu 0.9000\n",
      "Iter 4000: loss 52.9265, accu: 0.9250, valid loss 15.2048, valid accu 0.9000\n",
      "Iter 4250: loss 51.9682, accu: 0.9250, valid loss 14.9784, valid accu 0.9000\n",
      "Iter 4500: loss 51.0710, accu: 0.9250, valid loss 14.7666, valid accu 0.9333\n",
      "Iter 4750: loss 50.2272, accu: 0.9417, valid loss 14.5675, valid accu 0.9333\n",
      "Iter 5000: loss 49.4301, accu: 0.9417, valid loss 14.3795, valid accu 0.9333\n"
     ]
    }
   ],
   "source": [
    "num_features = X_train.shape[-1]\n",
    "f = Logistic(num_features)\n",
    "opt = GradientDescent(1e-5)\n",
    "loss = NegativeLogLikelihood()\n",
    "\n",
    "valid_losses = []\n",
    "valid_accuracies = []\n",
    "train_losses = []\n",
    "train_accuracies = []\n",
    "for i in range(5001):\n",
    "    X, Y = X_train, Y_train\n",
    "\n",
    "    Y_out = f.predict(X)\n",
    "    dLdW, dLdb = grad(Y, X, Y_out)\n",
    "    opt.update(f, dLdW, dLdb)\n",
    "\n",
    "    # 记录中间结果\n",
    "    cur_valid_loss = loss(Y_valid, f.predict(X_valid))\n",
    "    cur_valid_accu = accuracy(Y_valid, f.predict(X_valid))\n",
    "    cur_train_loss = loss(Y, Y_out)\n",
    "    cur_train_accu = accuracy(Y, f.predict(X))\n",
    "    valid_losses.append(cur_valid_loss)\n",
    "    valid_accuracies.append(cur_valid_accu)\n",
    "    train_losses.append(cur_train_loss)\n",
    "    train_accuracies.append(cur_train_accu)\n",
    "\n",
    "    if i % 250== 0:\n",
    "        print(\n",
    "            f\"Iter {i}: loss {cur_train_loss:.4f}, accu: {cur_train_accu:.4f}, valid loss {cur_valid_loss:.4f}, valid accu {cur_valid_accu:.4f}\"\n",
    "        )"
   ]
  },
  {
   "cell_type": "markdown",
   "metadata": {},
   "source": [
    "### 五、打印中间结果"
   ]
  },
  {
   "cell_type": "code",
   "execution_count": 17,
   "metadata": {
    "ExecuteTime": {
     "end_time": "2019-10-22T14:20:29.279234Z",
     "start_time": "2019-10-22T14:20:28.998020Z"
    }
   },
   "outputs": [
    {
     "data": {
      "text/plain": [
       "<matplotlib.legend.Legend at 0x7fd3930c7a20>"
      ]
     },
     "execution_count": 17,
     "metadata": {},
     "output_type": "execute_result"
    },
    {
     "data": {
      "image/png": "[encoded data removed]",
      "text/plain": [
       "<Figure size 432x288 with 1 Axes>"
      ]
     },
     "metadata": {
      "needs_background": "light"
     },
     "output_type": "display_data"
    }
   ],
   "source": [
    "plt.plot(train_losses)\n",
    "plt.plot(valid_losses)\n",
    "plt.legend([\"train loss\", \"validation loss\"])"
   ]
  },
  {
   "cell_type": "code",
   "execution_count": 18,
   "metadata": {
    "ExecuteTime": {
     "end_time": "2019-10-22T14:20:30.939519Z",
     "start_time": "2019-10-22T14:20:30.622906Z"
    }
   },
   "outputs": [
    {
     "data": {
      "text/plain": [
       "<matplotlib.legend.Legend at 0x7fd393078668>"
      ]
     },
     "execution_count": 18,
     "metadata": {},
     "output_type": "execute_result"
    },
    {
     "data": {
      "image/png": "[encoded data removed]",
      "text/plain": [
       "<Figure size 432x288 with 1 Axes>"
      ]
     },
     "metadata": {
      "needs_background": "light"
     },
     "output_type": "display_data"
    }
   ],
   "source": [
    "plt.plot(train_accuracies)\n",
    "plt.plot(valid_accuracies)\n",
    "plt.legend([\"train accuracy\", \"validation accuracy\"])"
   ]
  },
  {
   "cell_type": "code",
   "execution_count": 19,
   "metadata": {
    "ExecuteTime": {
     "end_time": "2019-10-22T14:20:32.357190Z",
     "start_time": "2019-10-22T14:20:32.081976Z"
    }
   },
   "outputs": [
    {
     "data": {
      "text/plain": [
       "<matplotlib.legend.Legend at 0x7fd39303f978>"
      ]
     },
     "execution_count": 19,
     "metadata": {},
     "output_type": "execute_result"
    },
    {
     "data": {
      "image/png": "[encoded data removed]",
      "text/plain": [
       "<Figure size 432x288 with 1 Axes>"
      ]
     },
     "metadata": {
      "needs_background": "light"
     },
     "output_type": "display_data"
    }
   ],
   "source": [
    "# 预测结果与真实结果重合\n",
    "plt.scatter(np.arange(Y_valid.size), np.argmax(f.predict(X_valid),axis=1))\n",
    "plt.scatter(np.arange(Y_valid.size), Y_valid)\n",
    "plt.legend([\"prediction\", \"ground truth\"])"
   ]
  },
  {
   "cell_type": "code",
   "execution_count": null,
   "metadata": {},
   "outputs": [],
   "source": []
  },
  {
   "cell_type": "code",
   "execution_count": null,
   "metadata": {},
   "outputs": [],
   "source": []
  }
 ],
 "metadata": {
  "kernelspec": {
   "display_name": "Python 3",
   "language": "python",
   "name": "python3"
  },
  "language_info": {
   "codemirror_mode": {
    "name": "ipython",
    "version": 3
   },
   "file_extension": ".py",
   "mimetype": "text/x-python",
   "name": "python",
   "nbconvert_exporter": "python",
   "pygments_lexer": "ipython3",
   "version": "3.7.3"
  },
  "toc": {
   "base_numbering": 1,
   "nav_menu": {},
   "number_sections": true,
   "sideBar": true,
   "skip_h1_title": false,
   "title_cell": "Table of Contents",
   "title_sidebar": "Contents",
   "toc_cell": false,
   "toc_position": {},
   "toc_section_display": true,
   "toc_window_display": false
  },
  "varInspector": {
   "cols": {
    "lenName": 16,
    "lenType": 16,
    "lenVar": 40
   },
   "kernels_config": {
    "python": {
     "delete_cmd_postfix": "",
     "delete_cmd_prefix": "del ",
     "library": "var_list.py",
     "varRefreshCmd": "print(var_dic_list())"
    },
    "r": {
     "delete_cmd_postfix": ") ",
     "delete_cmd_prefix": "rm(",
     "library": "var_list.r",
     "varRefreshCmd": "cat(var_dic_list()) "
    }
   },
   "oldHeight": 538,
   "position": {
    "height": "560px",
    "left": "916px",
    "right": "20px",
    "top": "44px",
    "width": "417px"
   },
   "types_to_exclude": [
    "module",
    "function",
    "builtin_function_or_method",
    "instance",
    "_Feature"
   ],
   "varInspector_section_display": "block",
   "window_display": false
  },
  "pycharm": {
   "stem_cell": {
    "cell_type": "raw",
    "source": [],
    "metadata": {
     "collapsed": false
    }
   }
  }
 },
 "nbformat": 4,
 "nbformat_minor": 4
}