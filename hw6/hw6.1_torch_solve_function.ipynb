{
 "cells": [
  {
   "cell_type": "code",
   "execution_count": 1,
   "metadata": {},
   "outputs": [],
   "source": [
    "import torch\n",
    "import numpy as np\n",
    "import matplotlib\n",
    "import matplotlib.pyplot as plt\n",
    "import matplotlib.gridspec as gridspec\n",
    "%matplotlib inline"
   ]
  },
  {
   "cell_type": "markdown",
   "metadata": {},
   "source": [
    "### 作业5.1：利用Pytorch的自动微分框架来重新实现作业一 (12.16之前提交)"
   ]
  },
  {
   "cell_type": "code",
   "execution_count": 2,
   "metadata": {},
   "outputs": [],
   "source": [
    "# def function1(x,y):\n",
    "#     f=3* ((1-x)**2) * np.exp(-x**2-(y+1)**2)-10*(x/5-x**3-y**5)*np.exp(-x**2-y**2)-1.0/3*np.exp(-(x+1)**2-y**2)\n",
    "#     return f"
   ]
  },
  {
   "cell_type": "code",
   "execution_count": 3,
   "metadata": {},
   "outputs": [],
   "source": [
    "class Newlayer(torch.nn.Module):\n",
    "    def __init__(self, init_x, init_y):\n",
    "        super().__init__()\n",
    "        # nn.Parameter用来告诉optimizer该权重是需要更新的 -- model.parameters()\n",
    "        self.x =  torch.nn.Parameter(torch.full((1, 1),init_x,requires_grad=True))\n",
    "        self.y =  torch.nn.Parameter(torch.full((1, 1),init_y,requires_grad=True))\n",
    "    \n",
    "    def forward(self):\n",
    "        return 3* ((1-self.x)**2) * torch.exp(-self.x**2-(self.y+1)**2)\\\n",
    "    -10*(self.x/5-self.x**3-self.y**5)*torch.exp(-self.x**2-self.y**2)  \\\n",
    "    -1.0/3*torch.exp(-(self.x+1)**2-self.y**2)"
   ]
  },
  {
   "cell_type": "code",
   "execution_count": 4,
   "metadata": {},
   "outputs": [],
   "source": [
    "# 初值列表\n",
    "x0_list=[ [-0.200, -0.500],[-0.200, -0.200],[-0.500, -0.500] ]"
   ]
  },
  {
   "cell_type": "code",
   "execution_count": 6,
   "metadata": {},
   "outputs": [
    {
     "name": "stdout",
     "output_type": "stream",
     "text": [
      "迭代次数均为1000次,这次作业没有用GPU。\n",
      "初始值为三个，分别是x0_list=[ [-0.200, -0.500],[-0.200, -0.200],[-0.500, -0.500] ]\n",
      "\n",
      "第1次尝试迭代初始值为x0= -0.200,y0= -0.500 函数值为  3.101\n",
      "第1次尝试迭代结束值为x0=  0.228,y0= -1.626 函数值为 -6.551\n",
      "\n",
      "第2次尝试迭代初始值为x0= -0.200,y0= -0.200 函数值为  2.312\n",
      "第2次尝试迭代结束值为x0=  0.297,y0=  0.318 函数值为 -0.065\n",
      "\n",
      "第3次尝试迭代初始值为x0= -0.500,y0= -0.500 函数值为  3.551\n",
      "第3次尝试迭代结束值为x0= -1.347,y0=  0.204 函数值为 -3.050\n",
      "\n"
     ]
    },
    {
     "data": {
      "image/png": "[encoded data removed]",
      "text/plain": [
       "<Figure size 1152x324 with 3 Axes>"
      ]
     },
     "metadata": {
      "needs_background": "light"
     },
     "output_type": "display_data"
    },
    {
     "name": "stdout",
     "output_type": "stream",
     "text": [
      "CPU times: user 4.34 s, sys: 308 ms, total: 4.64 s\n",
      "Wall time: 4.57 s\n"
     ]
    }
   ],
   "source": [
    "%%time\n",
    "\n",
    "print(\"迭代次数均为1000次,这次作业没有用GPU。\")\n",
    "print(\"初始值为三个，分别是x0_list=[ [-0.200, -0.500],[-0.200, -0.200],[-0.500, -0.500] ]\")\n",
    "print(\"\")\n",
    "plt.figure(figsize=(16, 4.5))\n",
    "gs = gridspec.GridSpec(1, 3)\n",
    "\n",
    "\n",
    "\n",
    "for index,(x0,y0)in enumerate(x0_list):      \n",
    "    model=Newlayer(x0,y0)\n",
    "    opt = torch.optim.SGD(model.parameters(), lr=1e-3)\n",
    "    lossbox=[]\n",
    "#     deltah=50\n",
    "\n",
    "    for i in range(1000):\n",
    "        opt.zero_grad()\n",
    "        \n",
    "        l=model.forward()\n",
    "        l.backward()\n",
    "\n",
    "        lossbox.append(l)   \n",
    "        opt.step()\n",
    "        \n",
    "    if True:\n",
    "        print( \"第%d次尝试迭代初始值为x0=%7.3f,y0=%7.3f\"%(index+1,x0,y0),\"函数值为%7.3f\"% (lossbox[0]) )\n",
    "        print( \"第%d次尝试迭代结束值为x0=%7.3f,y0=%7.3f\"%(index+1,model.x,model.y),\"函数值为%7.3f\"% (lossbox[-1]) )\n",
    "        ax = plt.subplot(gs[:,index])  \n",
    "#         b_x=np.arange(len(lossbox))*deltah\n",
    "        b_x=np.arange(len(lossbox))\n",
    "        ax.plot(b_x,lossbox)\n",
    "        ax.set_ylabel('funvalue')\n",
    "        ax.set_xlabel('iterations')\n",
    "        ax.set_title(\"SGD(x0=%0.3f,y0=%0.3f)\" %(x0,y0))\n",
    "        print(\"\")\n",
    "plt.show()"
   ]
  },
  {
   "cell_type": "code",
   "execution_count": null,
   "metadata": {},
   "outputs": [],
   "source": [
    "\n"
   ]
  },
  {
   "cell_type": "code",
   "execution_count": null,
   "metadata": {},
   "outputs": [],
   "source": []
  }
 ],
 "metadata": {
  "kernelspec": {
   "display_name": "AI-Course",
   "language": "python",
   "name": "ai-course"
  },
  "language_info": {
   "codemirror_mode": {
    "name": "ipython",
    "version": 3
   },
   "file_extension": ".py",
   "mimetype": "text/x-python",
   "name": "python",
   "nbconvert_exporter": "python",
   "pygments_lexer": "ipython3",
   "version": "3.7.3"
  }
 },
 "nbformat": 4,
 "nbformat_minor": 4
}
