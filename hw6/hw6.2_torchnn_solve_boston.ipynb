{
 "cells": [
  {
   "cell_type": "markdown",
   "metadata": {},
   "source": [
    "### 作业5.2：利用Pytorch的`torch.nn.Module`来重新实现小测验 (12.16之前提交)\n",
    "\n",
    "* 网络层自己用torch.nn.Module实现\n",
    "* 优化器和loss使用现成的即可"
   ]
  },
  {
   "cell_type": "code",
   "execution_count": 1,
   "metadata": {},
   "outputs": [],
   "source": [
    "from sklearn import datasets\n",
    "import numpy as np\n",
    "import math\n",
    "import matplotlib.pyplot as plt"
   ]
  },
  {
   "cell_type": "code",
   "execution_count": 2,
   "metadata": {},
   "outputs": [],
   "source": [
    "import os\n",
    "os.environ[\"CUDA_VISIBLE_DEVICES\"] = \"2\"\n",
    "import torch"
   ]
  },
  {
   "cell_type": "code",
   "execution_count": 3,
   "metadata": {},
   "outputs": [
    {
     "name": "stdout",
     "output_type": "stream",
     "text": [
      "torch.cuda.is_available() = True\n",
      "torch.cuda.device_count() = 1\n",
      "os.environ['CUDA_VISIBLE_DEVICES'] = 2\n"
     ]
    }
   ],
   "source": [
    "print(f\"torch.cuda.is_available() = {torch.cuda.is_available()}\")\n",
    "print(f\"torch.cuda.device_count() = {torch.cuda.device_count()}\")\n",
    "if 'CUDA_VISIBLE_DEVICES' in os.environ:\n",
    "    print(f\"os.environ['CUDA_VISIBLE_DEVICES'] = {os.environ['CUDA_VISIBLE_DEVICES']}\")\n",
    "else:\n",
    "    print(f\"没有设置环境变量 'CUDA_VISIBLE_DEVICES'\")"
   ]
  },
  {
   "cell_type": "code",
   "execution_count": 4,
   "metadata": {},
   "outputs": [],
   "source": [
    "def load_boston(ratio=0.8):\n",
    "    X, Y = datasets.load_boston(True)\n",
    "    Y.shape = -1, 1\n",
    "    \n",
    "#     # normalization\n",
    "#     X = X/80\n",
    "#     Y = Y/(np.max(Y) - np.min(Y))\n",
    "    num_samples = len(Y)\n",
    "    num_train = math.ceil(num_samples * ratio)\n",
    "    \n",
    "    # 随机打乱数据\n",
    "    idx = np.random.permutation(np.arange(num_samples))\n",
    "    traindata = X[idx[:num_train]], Y[idx[:num_train]]\n",
    "    validdata = X[idx[num_train:]], Y[idx[num_train:]]\n",
    "    \n",
    "    return traindata, validdata"
   ]
  },
  {
   "cell_type": "markdown",
   "metadata": {},
   "source": [
    "# MLP Quiz\n",
    "\n",
    "关于boston数据集：$n_{in}=13, n_{out}=1$，为了降低计算量，设定$n_{mid} = 30$"
   ]
  },
  {
   "cell_type": "code",
   "execution_count": 5,
   "metadata": {},
   "outputs": [],
   "source": [
    "class MyModel(torch.nn.Module):\n",
    "    def __init__(self, in_features,mid_features, out_features):\n",
    "        super().__init__()\n",
    "        \n",
    "        self.fc1 = torch.nn.Linear(in_features, mid_features)\n",
    "        self.activation = torch.nn.Sigmoid()\n",
    "        self.fc2 = torch.nn.Linear(mid_features, out_features)\n",
    "        \n",
    "    def forward(self, X):\n",
    "        return self.fc2(self.activation(self.fc1(X)))\n",
    "    \n",
    "    def fit(self,X_train,Y_train,opt,iternum=2000,Verbose=True):\n",
    "        self.valid_losses = []\n",
    "        self.train_losses = []\n",
    "        loss = torch.nn.MSELoss()\n",
    "        \n",
    "        for i in range(iternum):\n",
    "            opt.zero_grad()\n",
    "            X, Y = X_train, Y_train\n",
    "            l = loss(self.forward(X), Y)\n",
    "            l.backward()\n",
    "            opt.step()\n",
    "            \n",
    "            with torch.no_grad():\n",
    "                cur_train_loss = l\n",
    "                cur_valid_loss = loss(Y_valid, self.forward(X_valid))\n",
    "                self.valid_losses.append(cur_valid_loss) \n",
    "                self.train_losses.append(cur_train_loss)\n",
    "                if Verbose:\n",
    "                    if i%(iternum/20) == 0:\n",
    "                        print(f\"Iter {i}: loss {cur_train_loss:.4f}, valid loss {cur_valid_loss:.4f}\")\n",
    "        if Verbose:\n",
    "            plt.plot(self.train_losses)\n",
    "            plt.plot(self.valid_losses)\n",
    "            plt.legend([\"train loss\", \"validation loss\"])"
   ]
  },
  {
   "cell_type": "code",
   "execution_count": 6,
   "metadata": {},
   "outputs": [
    {
     "name": "stdout",
     "output_type": "stream",
     "text": [
      "preparing data\n"
     ]
    }
   ],
   "source": [
    "print(\"preparing data\")\n",
    "(X_train, Y_train), (X_valid, Y_valid) = load_boston()\n",
    "X_train, Y_train = torch.Tensor(X_train).cuda(), torch.Tensor(Y_train).cuda()\n",
    "X_valid, Y_valid = torch.Tensor(X_valid).cuda(), torch.Tensor(Y_valid).cuda()"
   ]
  },
  {
   "cell_type": "code",
   "execution_count": 7,
   "metadata": {},
   "outputs": [
    {
     "name": "stdout",
     "output_type": "stream",
     "text": [
      "Iter 0: loss 583.1694, valid loss 581.8045\n",
      "Iter 100: loss 446.5988, valid loss 447.3784\n",
      "Iter 200: loss 400.4091, valid loss 400.3124\n",
      "Iter 300: loss 367.7767, valid loss 367.0029\n",
      "Iter 400: loss 341.8563, valid loss 340.4943\n",
      "Iter 500: loss 320.1898, valid loss 318.3023\n",
      "Iter 600: loss 301.5272, valid loss 299.1612\n",
      "Iter 700: loss 285.1297, valid loss 282.3221\n",
      "Iter 800: loss 270.5176, valid loss 267.2983\n",
      "Iter 900: loss 257.3588, valid loss 253.7527\n",
      "Iter 1000: loss 245.4118, valid loss 241.4399\n",
      "Iter 1100: loss 234.4947, valid loss 230.1751\n",
      "Iter 1200: loss 224.4662, valid loss 219.8152\n",
      "Iter 1300: loss 215.2145, valid loss 210.2459\n",
      "Iter 1400: loss 206.6486, valid loss 201.3751\n",
      "Iter 1500: loss 198.6936, valid loss 193.1267\n",
      "Iter 1600: loss 191.2872, valid loss 185.4371\n",
      "Iter 1700: loss 184.3767, valid loss 178.2528\n",
      "Iter 1800: loss 177.9169, valid loss 171.5278\n",
      "Iter 1900: loss 171.8688, valid loss 165.2225\n",
      "CPU times: user 3.05 s, sys: 176 ms, total: 3.23 s\n",
      "Wall time: 3.27 s\n"
     ]
    },
    {
     "data": {
      "image/png": "[encoded data removed]",
      "text/plain": [
       "<Figure size 432x288 with 1 Axes>"
      ]
     },
     "metadata": {
      "needs_background": "light"
     },
     "output_type": "display_data"
    }
   ],
   "source": [
    "%%time\n",
    "\n",
    "lr=0.006239076671107937\n",
    "model= MyModel(X_train.shape[1],30,1)\n",
    "model=model.cuda()\n",
    "opt = torch.optim.Adagrad(model.parameters(),lr=lr)\n",
    "model.fit(X_train,Y_train,opt,iternum=2000,Verbose=True)"
   ]
  },
  {
   "cell_type": "code",
   "execution_count": null,
   "metadata": {},
   "outputs": [],
   "source": []
  },
  {
   "cell_type": "code",
   "execution_count": null,
   "metadata": {},
   "outputs": [],
   "source": []
  },
  {
   "cell_type": "code",
   "execution_count": null,
   "metadata": {},
   "outputs": [],
   "source": []
  },
  {
   "cell_type": "code",
   "execution_count": null,
   "metadata": {},
   "outputs": [],
   "source": []
  },
  {
   "cell_type": "code",
   "execution_count": 12,
   "metadata": {},
   "outputs": [],
   "source": [
    "# list1=np.linspace(-10,-2,40)\n",
    "# list1=np.exp(list1)\n",
    "# now1=float(\"inf\")\n",
    "# now2=float(\"inf\")\n",
    "# for index,lr in enumerate(list1):\n",
    "#     print(index)\n",
    "#     model= MyModel(X_train.shape[1],30,1)\n",
    "#     model=model.cuda()\n",
    "#     opt = torch.optim.SGD(model.parameters(),lr=lr)\n",
    "#     model.fit(X_train,Y_train,opt,iternum=4000,Verbose=False)\n",
    "    \n",
    "#     currentmin1=min(model.train_losses)\n",
    "#     currentmin2=min(model.valid_losses)\n",
    "    \n",
    "#     if currentmin1<now1:\n",
    "#         now1=currentmin1\n",
    "#         ans1=(currentmin1,lr)\n",
    "#         print(\"ans1\",ans1)\n",
    "#     if currentmin2<now2:\n",
    "#         now2=currentmin2\n",
    "#         ans2=(currentmin2,lr)\n",
    "#         print(\"ans2\",ans2)\n",
    "# print(ans1,ans2)\n",
    "### adagrad，lr= 0.006239076671107937,  train_loss= 90.2585,valid_loss=60.6900\n",
    "### adam，lr= 0.00023428450238202782,  train_loss= 90.2585,valid_loss=60.6900"
   ]
  },
  {
   "cell_type": "code",
   "execution_count": 13,
   "metadata": {},
   "outputs": [],
   "source": [
    "# dir(torch.optim)"
   ]
  },
  {
   "cell_type": "code",
   "execution_count": null,
   "metadata": {},
   "outputs": [],
   "source": []
  }
 ],
 "metadata": {
  "hide_input": false,
  "kernelspec": {
   "display_name": "Python 3",
   "language": "python",
   "name": "python3"
  },
  "language_info": {
   "codemirror_mode": {
    "name": "ipython",
    "version": 3
   },
   "file_extension": ".py",
   "mimetype": "text/x-python",
   "name": "python",
   "nbconvert_exporter": "python",
   "pygments_lexer": "ipython3",
   "version": "3.7.3"
  },
  "toc": {
   "base_numbering": 1,
   "nav_menu": {},
   "number_sections": true,
   "sideBar": true,
   "skip_h1_title": false,
   "title_cell": "Table of Contents",
   "title_sidebar": "Contents",
   "toc_cell": false,
   "toc_position": {},
   "toc_section_display": true,
   "toc_window_display": false
  },
  "varInspector": {
   "cols": {
    "lenName": 16,
    "lenType": 16,
    "lenVar": 40
   },
   "kernels_config": {
    "python": {
     "delete_cmd_postfix": "",
     "delete_cmd_prefix": "del ",
     "library": "var_list.py",
     "varRefreshCmd": "print(var_dic_list())"
    },
    "r": {
     "delete_cmd_postfix": ") ",
     "delete_cmd_prefix": "rm(",
     "library": "var_list.r",
     "varRefreshCmd": "cat(var_dic_list()) "
    }
   },
   "types_to_exclude": [
    "module",
    "function",
    "builtin_function_or_method",
    "instance",
    "_Feature"
   ],
   "window_display": false
  },
  "pycharm": {
   "stem_cell": {
    "cell_type": "raw",
    "source": [],
    "metadata": {
     "collapsed": false
    }
   }
  }
 },
 "nbformat": 4,
 "nbformat_minor": 4
}