{
 "cells": [
  {
   "cell_type": "markdown",
   "metadata": {},
   "source": [
    "\n",
    "作业五：借助文档(custom_optimizer)的代码结构，实现带动量的随机梯度下降算法(SGD with momentum) "
   ]
  },
  {
   "cell_type": "code",
   "execution_count": 1,
   "metadata": {},
   "outputs": [],
   "source": [
    "import os\n",
    "os.environ[\"CUDA_VISIBLE_DEVICES\"] = \"2\""
   ]
  },
  {
   "cell_type": "code",
   "execution_count": 2,
   "metadata": {},
   "outputs": [],
   "source": [
    "import torch\n",
    "from torch.optim import Optimizer\n",
    "\n",
    "from sklearn import datasets\n",
    "import math\n",
    "import numpy as np\n",
    "import matplotlib.pyplot as plt"
   ]
  },
  {
   "cell_type": "code",
   "execution_count": 3,
   "metadata": {},
   "outputs": [],
   "source": [
    "def load_boston(ratio=0.8):\n",
    "    X, Y = datasets.load_boston(True)\n",
    "    Y.shape = -1, 1\n",
    "    \n",
    "    # normalization\n",
    "    X = X/80\n",
    "    Y = Y/(np.max(Y) - np.min(Y))\n",
    "    \n",
    "    num_samples = len(Y)\n",
    "    num_train = math.ceil(num_samples * ratio)\n",
    "    \n",
    "    # 随机打乱数据\n",
    "    idx = np.random.permutation(np.arange(num_samples))\n",
    "    traindata = X[idx[:num_train]], Y[idx[:num_train]]\n",
    "    validdata = X[idx[num_train:]], Y[idx[num_train:]]\n",
    "    \n",
    "    return traindata, validdata"
   ]
  },
  {
   "cell_type": "code",
   "execution_count": 4,
   "metadata": {},
   "outputs": [],
   "source": [
    "class SGD_momentum(torch.optim.Optimizer):\n",
    "    def __init__(self, params,vs, lr=1e-3,gamma=0.9):\n",
    "        # 将参数导回Optimizer，这样可以允许lr_scheduler修改lr\n",
    "        defaults = dict(vs=vs,lr=lr,gamma=gamma)\n",
    "        super().__init__(params, defaults)\n",
    "        \n",
    "    def step(self):\n",
    "        \n",
    "        for group in self.param_groups:\n",
    "            for p ,v in zip(group['params'],vs):\n",
    "                if p.grad is None:\n",
    "                    continue\n",
    "                grad = p.grad.data\n",
    "                v[:]= group[\"gamma\"]*v+group['lr']*grad\n",
    "                \n",
    "                \n",
    "                p.data.add_(-v) # in-place add"
   ]
  },
  {
   "cell_type": "code",
   "execution_count": 30,
   "metadata": {},
   "outputs": [],
   "source": [
    "(X_train, Y_train), (X_valid, Y_valid) = load_boston()\n",
    "X_train, Y_train = torch.Tensor(X_train).cuda(), torch.Tensor(Y_train).cuda()\n",
    "X_valid, Y_valid = torch.Tensor(X_valid).cuda(), torch.Tensor(Y_valid).cuda()"
   ]
  },
  {
   "cell_type": "code",
   "execution_count": 31,
   "metadata": {},
   "outputs": [],
   "source": [
    "model = torch.nn.Sequential(\n",
    "    torch.nn.Linear(13, 50),\n",
    "    torch.nn.Sigmoid(),\n",
    "    torch.nn.Linear(50, 1)\n",
    ")"
   ]
  },
  {
   "cell_type": "code",
   "execution_count": 32,
   "metadata": {},
   "outputs": [],
   "source": [
    "model=model.cuda()"
   ]
  },
  {
   "cell_type": "code",
   "execution_count": 33,
   "metadata": {},
   "outputs": [],
   "source": [
    "loss = torch.nn.MSELoss()"
   ]
  },
  {
   "cell_type": "code",
   "execution_count": 34,
   "metadata": {},
   "outputs": [],
   "source": [
    "### 初始化vs\n",
    "vs = []\n",
    "for param in model.parameters():\n",
    "    vs.append(torch.zeros_like(param.data))\n",
    "# 使用自定义优化器\n",
    "opt =SGD_momentum(model.parameters(),vs, lr=1e-2,gamma=0.9)\n",
    "# opt = torch.optim.SGD(model.parameters(), lr=1e-2, momentum=0.9) # pytorch动量"
   ]
  },
  {
   "cell_type": "code",
   "execution_count": 35,
   "metadata": {},
   "outputs": [
    {
     "name": "stdout",
     "output_type": "stream",
     "text": [
      "Iter 0: loss 2.1330, valid loss 0.9704\n",
      "Iter 100: loss 0.0293, valid loss 0.0365\n",
      "Iter 200: loss 0.0288, valid loss 0.0358\n",
      "Iter 300: loss 0.0283, valid loss 0.0354\n"
     ]
    }
   ],
   "source": [
    "valid_losses = []\n",
    "train_losses = []\n",
    "for i in range(301):\n",
    "    X, Y = X_train, Y_train\n",
    "    \n",
    "    opt.zero_grad()\n",
    "    l = loss(model(X), Y)\n",
    "    l.backward()\n",
    "    opt.step()\n",
    "    \n",
    "    with torch.no_grad():\n",
    "        cur_train_loss = l\n",
    "        cur_valid_loss = loss(Y_valid, model(X_valid))\n",
    "        valid_losses.append(cur_valid_loss) \n",
    "        train_losses.append(cur_train_loss)\n",
    "\n",
    "        if i%100 == 0:\n",
    "            print(f\"Iter {i}: loss {cur_train_loss:.4f}, valid loss {cur_valid_loss:.4f}\")"
   ]
  },
  {
   "cell_type": "code",
   "execution_count": 36,
   "metadata": {},
   "outputs": [
    {
     "data": {
      "text/plain": [
       "<matplotlib.legend.Legend at 0x7f24b886a0f0>"
      ]
     },
     "execution_count": 36,
     "metadata": {},
     "output_type": "execute_result"
    },
    {
     "data": {
      "image/png": "[encoded data removed]",
      "text/plain": [
       "<Figure size 432x288 with 1 Axes>"
      ]
     },
     "metadata": {
      "needs_background": "light"
     },
     "output_type": "display_data"
    }
   ],
   "source": [
    "plt.plot(train_losses)\n",
    "plt.plot(valid_losses)\n",
    "plt.legend([\"train loss\", \"validation loss\"])"
   ]
  },
  {
   "cell_type": "code",
   "execution_count": null,
   "metadata": {},
   "outputs": [],
   "source": []
  },
  {
   "cell_type": "code",
   "execution_count": null,
   "metadata": {},
   "outputs": [],
   "source": []
  },
  {
   "cell_type": "code",
   "execution_count": null,
   "metadata": {},
   "outputs": [],
   "source": []
  }
 ],
 "metadata": {
  "hide_input": false,
  "kernelspec": {
   "display_name": "Python 3",
   "language": "python",
   "name": "python3"
  },
  "language_info": {
   "codemirror_mode": {
    "name": "ipython",
    "version": 3
   },
   "file_extension": ".py",
   "mimetype": "text/x-python",
   "name": "python",
   "nbconvert_exporter": "python",
   "pygments_lexer": "ipython3",
   "version": "3.7.3"
  },
  "toc": {
   "base_numbering": 1,
   "nav_menu": {},
   "number_sections": true,
   "sideBar": true,
   "skip_h1_title": false,
   "title_cell": "Table of Contents",
   "title_sidebar": "Contents",
   "toc_cell": false,
   "toc_position": {},
   "toc_section_display": true,
   "toc_window_display": false
  },
  "varInspector": {
   "cols": {
    "lenName": 16,
    "lenType": 16,
    "lenVar": 40
   },
   "kernels_config": {
    "python": {
     "delete_cmd_postfix": "",
     "delete_cmd_prefix": "del ",
     "library": "var_list.py",
     "varRefreshCmd": "print(var_dic_list())"
    },
    "r": {
     "delete_cmd_postfix": ") ",
     "delete_cmd_prefix": "rm(",
     "library": "var_list.r",
     "varRefreshCmd": "cat(var_dic_list()) "
    }
   },
   "types_to_exclude": [
    "module",
    "function",
    "builtin_function_or_method",
    "instance",
    "_Feature"
   ],
   "window_display": false
  },
  "pycharm": {
   "stem_cell": {
    "cell_type": "raw",
    "source": [],
    "metadata": {
     "collapsed": false
    }
   }
  }
 },
 "nbformat": 4,
 "nbformat_minor": 4
}