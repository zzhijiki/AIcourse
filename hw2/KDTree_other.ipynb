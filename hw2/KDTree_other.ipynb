{
 "cells": [
  {
   "cell_type": "markdown",
   "metadata": {},
   "source": [
    "# 作业二"
   ]
  },
  {
   "cell_type": "markdown",
   "metadata": {},
   "source": [
    "## Homework 1\n",
    "证明：模型是条件概率分布，当损失函数是对数损失函数时，经验风险最小化等价于极大似然估计\n",
    "证明：\n",
    "若损失函数$L(Y,P(Y|X))$为对数损失函数，则 $L(Y,P(Y|X))=−\\log P(Y|X)$,\n",
    "\n",
    "经验损失：$R_{emp}(f)=\\frac{1}{N}\\sum_{i=1}^{N} L(y_i,f(x_i))=-\\frac{1}{N}\\sum_{i=1}^{N} \\log P(y_i|x_i)$=$-\\frac{1}{N} \\log \\prod_{i=1}^{N} P(y_i|x_i)$\n",
    "\n",
    "最小化$R_{emp}$，即最大化$\\frac{1}{N} \\log \\prod_{i=1}^{N} P(y_i|x_i)$，而后者就是似然估计\n",
    "\n",
    "所以，当损失函数为对数损失函数时，经验风险最小化等价于极大似然估计。"
   ]
  },
  {
   "cell_type": "markdown",
   "metadata": {},
   "source": [
    "## Homework 2\n",
    "感知机，见 't1_dummy_data_classify.mlx' 与 't2_boston_house.mlx'"
   ]
  },
  {
   "cell_type": "markdown",
   "metadata": {},
   "source": [
    "## Homework 3\n",
    "实现K近邻算法并绘制分类边界"
   ]
  },
  {
   "cell_type": "code",
   "execution_count": 1,
   "metadata": {},
   "outputs": [],
   "source": [
    "import numpy as np\n",
    "import scipy.io as io\n",
    "from collections import Counter\n",
    "import matplotlib.pyplot as plt\n",
    "from matplotlib.colors import ListedColormap\n",
    "from sklearn import neighbors, datasets\n",
    "from collections import namedtuple\n",
    "from operator import itemgetter\n",
    "from pprint import pformat"
   ]
  },
  {
   "cell_type": "markdown",
   "metadata": {},
   "source": [
    "K近邻："
   ]
  },
  {
   "cell_type": "code",
   "execution_count": 2,
   "metadata": {},
   "outputs": [],
   "source": [
    "class KNN:\n",
    "    \"\"\"k-nearest neighbor, k-NN\n",
    "    Parameters\n",
    "    ----------\n",
    "    k : int, neighbor number\n",
    "    metric : {'euclidean', 'manhattan'}\n",
    "        The metric type of distance.\n",
    "        'euclidean': the Euclidean distance\n",
    "        'manhattan': the Manhattan distance\n",
    "    \"\"\"\n",
    "    def __init__(self, metric_type = 'euclidean'):\n",
    "        if 'euclidean' in metric_type:\n",
    "            self.metric = lambda x: np.linalg.norm(x, ord = 2, axis = 1)\n",
    "        elif 'manhattan' in metric_type:\n",
    "            self.metric = lambda x: np.linalg.norm(x, ord = 1, axis = 1)\n",
    "        else:\n",
    "            raise NameError(f'parameter \\'metric_type\\' got \\'{metric_type}\\', but \\'euclidean\\' or \\'manhattan\\' is expected.')\n",
    "    def fit(self, X, Y):\n",
    "        \"\"\"\n",
    "        Parameters\n",
    "        ----------\n",
    "        X : array, shape (n_samples, n_features), dtype float/double\n",
    "        Y : array, shape (n_samples,), or list, length n_samples,\n",
    "            labels of X\n",
    "        \"\"\"\n",
    "        assert (len(X.shape) == 2) & (len(Y.shape) == 1)\n",
    "        assert X.shape[0] == Y.shape[0]\n",
    "        self.X = X\n",
    "        self.Y = Y\n",
    "    def predict(self, x, k):\n",
    "        \"\"\"\n",
    "        Parameter\n",
    "        ----------\n",
    "        x : array, shape (n_samples, n_features), dtype float/double\n",
    "            the input data to be classified\n",
    "        \n",
    "        Return\n",
    "        ----------\n",
    "        y : array, shape (n_samples,)\n",
    "            labels of x\n",
    "        \"\"\"\n",
    "        if (self.X is None) or (self.Y is None):\n",
    "            raise NotImplementedError('you must train the KNN first')\n",
    "        assert len(x.shape) == 2\n",
    "        assert x.shape[1] == self.X.shape[1]\n",
    "        data_length = x.shape[0]\n",
    "        y = []\n",
    "        for item in range(data_length):\n",
    "            distances = self.metric(self.X - x[item])\n",
    "            sort_index = np.argsort(distances)[:k] # find the first n-th minimum values\n",
    "            label = Counter(self.Y[sort_index]).most_common(1)[0][0] # the label of item\n",
    "            y.append(label)\n",
    "        return np.array(y)\n",
    "    def test(self, x, y, k):\n",
    "        \"\"\"to test the performance of the trained classifier\n",
    "        Parameter\n",
    "        ----------\n",
    "        x : array, shape (n_samples, n_features), dtype float/double,\n",
    "            the input data to be classified.\n",
    "        y : array, shape (n_samples,), or list, length n_samples,\n",
    "            labels of x\n",
    "        Return\n",
    "        ----------\n",
    "        error : float \\in [0,1]\n",
    "            the error of classifier on the data x\n",
    "        \"\"\"\n",
    "        if (self.X is None) or (self.Y is None):\n",
    "            raise NotImplementedError('you must train the KNN first')\n",
    "        assert (len(x.shape) == 2) & (len(y.shape) == 1)\n",
    "        assert X.shape[0] == len(y)\n",
    "        pre = self.predict(x, k)\n",
    "        error = 0\n",
    "        for i, item in enumerate(pre):\n",
    "            if item != y[i]:\n",
    "                error += 1\n",
    "        return error/len(y)"
   ]
  },
  {
   "cell_type": "markdown",
   "metadata": {},
   "source": [
    "KD树：\n",
    "\n",
    "本次代码在[KDTree](https://www.cnblogs.com/gscnblog/p/10566157.html)的基础上改造.\n",
    "\n",
    "改动：\n",
    "    1. 增加了Node的属性，'label'\n",
    "    2. 将最近邻搜索改为k近邻搜索"
   ]
  },
  {
   "cell_type": "code",
   "execution_count": 3,
   "metadata": {},
   "outputs": [],
   "source": [
    "class Node(namedtuple('Node', 'label location left_child right_child')):\n",
    "    def __repr__(self):\n",
    "        return pformat(tuple(self))\n",
    "\n",
    "class KDTree():\n",
    "    def __init__(self):\n",
    "        pass\n",
    "    def fit(self, points, labels):\n",
    "        assert (len(points.shape) == 2) & (len(labels.shape) == 1)\n",
    "        assert points.shape[0] == labels.shape[0]\n",
    "        if len(points) > 0:\n",
    "            self.k = len(points[0])\n",
    "        else:\n",
    "            self.k = None\n",
    "        self.tree = self._make_kdtree(points, labels)\n",
    "        \n",
    "    def _make_kdtree(self, points, labels, depth=0):\n",
    "        if len(points) == 0:\n",
    "            return None\n",
    "        axis = depth % self.k\n",
    "        index_sorted = np.argsort(points[:,axis])\n",
    "        points = points[index_sorted,:]\n",
    "        labels = labels[index_sorted]\n",
    "        median = len(points) // 2\n",
    "\n",
    "        return Node(\n",
    "            label=labels[median],\n",
    "            location=points[median],\n",
    "            left_child=self._make_kdtree(points[:median,:], labels[:median], depth + 1),\n",
    "            right_child=self._make_kdtree(points[median + 1:,:], labels[median + 1:], depth + 1))\n",
    "    def predict(self, points, k):\n",
    "        assert len(points.shape) == 2\n",
    "        outputs = []\n",
    "        for points in points:\n",
    "            label_predict = [label[2] for label in self.find_nearest(points, k)]\n",
    "            label = Counter(label_predict).most_common(1)[0][0]\n",
    "            outputs.append(label)\n",
    "        return np.array(outputs)\n",
    "            \n",
    "    def find_nearest(self,\n",
    "                     point,\n",
    "                     k = 1,\n",
    "                     root=None,\n",
    "                     axis=0,\n",
    "                     dist_func=lambda x, y: np.linalg.norm(x - y)):\n",
    "        if root is None:\n",
    "            root = self.tree\n",
    "            self._best = []\n",
    "\n",
    "        if root.left_child or root.right_child:\n",
    "            new_axis = (axis + 1) % self.k\n",
    "            if point[axis] < root.location[axis] and root.left_child:\n",
    "                self.find_nearest(point, k, root.left_child, new_axis)\n",
    "            elif root.right_child:\n",
    "                self.find_nearest(point, k, root.right_child, new_axis)\n",
    "\n",
    "        dist = dist_func(root.location, point).item()\n",
    "\n",
    "        if len(self._best) < k or (len(self._best) == 0 or dist <= self._best[-1][0]):\n",
    "            self._best.append((dist, list(root.location), root.label.item()))\n",
    "            self._best.sort(key = lambda item: item[0])\n",
    "            self._best = self._best[:k]\n",
    "\n",
    "        if np.abs(point[axis] - root.location[axis]) <= self._best[-1][0]:\n",
    "            new_axis = (axis + 1) % self.k\n",
    "            if root.left_child and point[axis] >= root.location[axis]:\n",
    "                self.find_nearest(point, k, root.left_child, new_axis)\n",
    "            elif root.right_child and point[axis] < root.location[axis]:\n",
    "                self.find_nearest(point, k, root.right_child, new_axis)\n",
    "\n",
    "        return self._best"
   ]
  },
  {
   "cell_type": "markdown",
   "metadata": {},
   "source": [
    "用sklearn的KD树，验证本次作业代码的正确性"
   ]
  },
  {
   "cell_type": "code",
   "execution_count": 4,
   "metadata": {},
   "outputs": [
    {
     "name": "stdout",
     "output_type": "stream",
     "text": [
      "作业的KD树结果： [2.3074953057543213, 2.331393846870629, 2.4480285910310706]\n",
      "sklearn的KD树结果： [2.30749531 2.33139385 2.44802859]\n"
     ]
    }
   ],
   "source": [
    "point_list = np.random.rand(100,3)\n",
    "labels = np.random.rand(100)\n",
    "kdtree = KDTree()\n",
    "kdtree.fit(point_list,labels)\n",
    "kdtree_sklearn = neighbors.KDTree(point_list)\n",
    "\n",
    "point = np.array([1,2,3])\n",
    "kdtree.find_nearest(point, k = 3)\n",
    "print('作业的KD树结果：',[i[0] for i in kdtree._best])\n",
    "dist, n = kdtree_sklearn.query(point.reshape(-1,3),k=3)\n",
    "print('sklearn的KD树结果：',dist[0])"
   ]
  },
  {
   "cell_type": "markdown",
   "metadata": {},
   "source": [
    "显示决策边界："
   ]
  },
  {
   "cell_type": "code",
   "execution_count": 5,
   "metadata": {},
   "outputs": [],
   "source": [
    "def show_boundary(X, Y, model, n_neighbors):\n",
    "    h = .05\n",
    "    cmap_light = ListedColormap(['#FFAAAA', '#AAFFAA', '#AAAAFF'])\n",
    "    cmap_bold = ListedColormap(['#FF0000', '#00FF00', '#0000FF'])\n",
    "    model.fit(X[:,:2],Y)\n",
    "    x_min, x_max = X[:, 0].min() - 1, X[:, 0].max() + 1\n",
    "    y_min, y_max = X[:, 1].min() - 1, X[:, 1].max() + 1\n",
    "    xx, yy = np.meshgrid(np.arange(x_min, x_max, h),\n",
    "                         np.arange(y_min, y_max, h))\n",
    "    Z = model.predict(np.c_[xx.ravel(), yy.ravel()],n_neighbors)\n",
    "    # Put the result into a color plot\n",
    "    Z = Z.reshape(xx.shape)\n",
    "    plt.figure()\n",
    "    plt.pcolormesh(xx, yy, Z, cmap=cmap_light)\n",
    "\n",
    "    # Plot also the training points\n",
    "    plt.scatter(X[:, 0], X[:, 1], c=Y, cmap=cmap_bold,\n",
    "                edgecolor='k', s=20)\n",
    "    plt.xlim(xx.min(), xx.max())\n",
    "    plt.ylim(yy.min(), yy.max())\n",
    "    plt.title(\"3-Class classification, k = %i\"% (n_neighbors))\n",
    "    plt.show()"
   ]
  },
  {
   "cell_type": "code",
   "execution_count": 6,
   "metadata": {},
   "outputs": [],
   "source": [
    "iris = datasets.load_iris()\n",
    "X = iris.data\n",
    "Y = iris.target\n",
    "n_neighbors = 3\n",
    "\n",
    "kdtree = KDTree()\n",
    "knn = KNN()"
   ]
  },
  {
   "cell_type": "code",
   "execution_count": 7,
   "metadata": {},
   "outputs": [
    {
     "data": {
      "image/png": "[encoded data removed]",
      "text/plain": [
       "<Figure size 432x288 with 1 Axes>"
      ]
     },
     "metadata": {
      "needs_background": "light"
     },
     "output_type": "display_data"
    }
   ],
   "source": [
    "show_boundary(X,Y, knn, n_neighbors = 3)"
   ]
  },
  {
   "cell_type": "code",
   "execution_count": 8,
   "metadata": {},
   "outputs": [
    {
     "data": {
      "image/png": "[encoded data removed]",
      "text/plain": [
       "<Figure size 432x288 with 1 Axes>"
      ]
     },
     "metadata": {
      "needs_background": "light"
     },
     "output_type": "display_data"
    }
   ],
   "source": [
    "show_boundary(X,Y,kdtree,n_neighbors = 3)"
   ]
  },
  {
   "cell_type": "code",
   "execution_count": null,
   "metadata": {},
   "outputs": [],
   "source": []
  }
 ],
 "metadata": {
  "kernelspec": {
   "display_name": "Python 3",
   "language": "python",
   "name": "python3"
  },
  "language_info": {
   "codemirror_mode": {
    "name": "ipython",
    "version": 3
   },
   "file_extension": ".py",
   "mimetype": "text/x-python",
   "name": "python",
   "nbconvert_exporter": "python",
   "pygments_lexer": "ipython3",
   "version": "3.7.3"
  }
 },
 "nbformat": 4,
 "nbformat_minor": 4
}
